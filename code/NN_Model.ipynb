{
  "nbformat": 4,
  "nbformat_minor": 0,
  "metadata": {
    "colab": {
      "name": "Copy of Copy of LiveA_First_NN_Model_S2020_DS_v2.ipynb",
      "provenance": [],
      "collapsed_sections": [],
      "toc_visible": true
    },
    "kernelspec": {
      "name": "python3",
      "display_name": "Python 3"
    },
    "accelerator": "GPU"
  },
  "cells": [
    {
      "cell_type": "markdown",
      "metadata": {
        "id": "RqzvlsW5pRxb"
      },
      "source": [
        "# Dense Neural Networks\n"
      ]
    },
    {
      "cell_type": "code",
      "metadata": {
        "id": "JFYENpUypaH5",
        "colab": {
          "base_uri": "https://localhost:8080/",
          "height": 55
        },
        "outputId": "01a5d574-2ac5-4811-a7aa-a59ae9bf6c50"
      },
      "source": [
        "from google.colab import drive\n",
        "drive.mount('/content/drive')"
      ],
      "execution_count": null,
      "outputs": [
        {
          "output_type": "stream",
          "text": [
            "Drive already mounted at /content/drive; to attempt to forcibly remount, call drive.mount(\"/content/drive\", force_remount=True).\n"
          ],
          "name": "stdout"
        }
      ]
    },
    {
      "cell_type": "code",
      "metadata": {
        "id": "kEKw6TdNpHb5"
      },
      "source": [
        "# get some important modules\n",
        "import pandas as pd # for data wrangling\n",
        "import numpy as np # for array calculations, some math functions\n",
        "from matplotlib import pyplot as plt #for plotting"
      ],
      "execution_count": null,
      "outputs": []
    },
    {
      "cell_type": "code",
      "metadata": {
        "id": "6O14_KZVpirz"
      },
      "source": [
        "# read in some data\n",
        "df = pd.read_csv(\"/content/drive/My Drive/Spring 2020 Materials/Week 1/Module1/Script and Data/Boston Housing.csv\")"
      ],
      "execution_count": null,
      "outputs": []
    },
    {
      "cell_type": "code",
      "metadata": {
        "id": "jsQbDp7fppYp",
        "colab": {
          "base_uri": "https://localhost:8080/",
          "height": 283
        },
        "outputId": "9cc33aee-6915-4aaa-858d-22352666ccb8"
      },
      "source": [
        "# do some EDA if you'd like\n",
        "# see the other Boston Housing EDA script\n",
        "# boxplots, scatterplots, kde plots\n",
        "df.boxplot('medv')"
      ],
      "execution_count": null,
      "outputs": [
        {
          "output_type": "execute_result",
          "data": {
            "text/plain": [
              "<matplotlib.axes._subplots.AxesSubplot at 0x7f242aadda20>"
            ]
          },
          "metadata": {
            "tags": []
          },
          "execution_count": 51
        },
        {
          "output_type": "display_data",
          "data": {
            "image/png": "[encoded data removed]",
            "text/plain": [
              "<Figure size 432x288 with 1 Axes>"
            ]
          },
          "metadata": {
            "tags": []
          }
        }
      ]
    },
    {
      "cell_type": "code",
      "metadata": {
        "id": "MiUexTuTpysQ",
        "colab": {
          "base_uri": "https://localhost:8080/",
          "height": 35
        },
        "outputId": "6e30a664-f090-47b9-95a1-d3add8f2b856"
      },
      "source": [
        "# shape\n",
        "df.shape"
      ],
      "execution_count": null,
      "outputs": [
        {
          "output_type": "execute_result",
          "data": {
            "text/plain": [
              "(506, 14)"
            ]
          },
          "metadata": {
            "tags": []
          },
          "execution_count": 52
        }
      ]
    },
    {
      "cell_type": "code",
      "metadata": {
        "id": "BfA7JIgcp03T",
        "colab": {
          "base_uri": "https://localhost:8080/",
          "height": 69
        },
        "outputId": "321aa705-9d92-497b-fa78-64c360a4f36a"
      },
      "source": [
        "# column names\n",
        "df.columns"
      ],
      "execution_count": null,
      "outputs": [
        {
          "output_type": "execute_result",
          "data": {
            "text/plain": [
              "Index(['crim', 'zn', 'indus', 'chas', 'nox', 'rm', 'age', 'dis', 'rad', 'tax',\n",
              "       'ptratio', 'b', 'lstat', 'medv'],\n",
              "      dtype='object')"
            ]
          },
          "metadata": {
            "tags": []
          },
          "execution_count": 53
        }
      ]
    },
    {
      "cell_type": "code",
      "metadata": {
        "id": "I6BcAXUsp3mH",
        "colab": {
          "base_uri": "https://localhost:8080/",
          "height": 277
        },
        "outputId": "9665cd43-d39d-4db0-aed2-95ebc412e3a7"
      },
      "source": [
        "# column types\n",
        "df.dtypes"
      ],
      "execution_count": null,
      "outputs": [
        {
          "output_type": "execute_result",
          "data": {
            "text/plain": [
              "crim       float64\n",
              "zn         float64\n",
              "indus      float64\n",
              "chas         int64\n",
              "nox        float64\n",
              "rm         float64\n",
              "age        float64\n",
              "dis        float64\n",
              "rad          int64\n",
              "tax          int64\n",
              "ptratio    float64\n",
              "b          float64\n",
              "lstat      float64\n",
              "medv       float64\n",
              "dtype: object"
            ]
          },
          "metadata": {
            "tags": []
          },
          "execution_count": 54
        }
      ]
    },
    {
      "cell_type": "markdown",
      "metadata": {
        "id": "0RWxh0BOx2aW"
      },
      "source": [
        "## A very first model\n",
        "Let's fit a NN with a simple 80/20 split"
      ]
    },
    {
      "cell_type": "code",
      "metadata": {
        "id": "6R547qllqM1Y"
      },
      "source": [
        "# split our data into X and y\n",
        "y = df['medv']\n",
        "# we can use .iloc to select rows columns by index\n",
        "# this means all rows\n",
        "X = df.iloc[:,0:13]"
      ],
      "execution_count": null,
      "outputs": []
    },
    {
      "cell_type": "code",
      "metadata": {
        "id": "7f2eprwwVm4H"
      },
      "source": [
        "# min/max normalization\n",
        "from sklearn import preprocessing\n",
        "\n",
        "X = X.values #returns a numpy array\n",
        "min_max_scaler = preprocessing.MinMaxScaler()\n",
        "X_scaled = min_max_scaler.fit_transform(X)\n",
        "X = pd.DataFrame(X_scaled)"
      ],
      "execution_count": null,
      "outputs": []
    },
    {
      "cell_type": "code",
      "metadata": {
        "id": "d_TZMrwbp7jT"
      },
      "source": [
        "# basic data splitting\n",
        "from sklearn.model_selection import train_test_split\n",
        "\n",
        "# basic data holdout\n",
        "X_train, X_test, y_train, y_test = train_test_split(X, y, test_size=0.2, random_state=0)"
      ],
      "execution_count": null,
      "outputs": []
    },
    {
      "cell_type": "code",
      "metadata": {
        "id": "oLTtJpgDqy1Q",
        "colab": {
          "base_uri": "https://localhost:8080/",
          "height": 104
        },
        "outputId": "60f76f57-1f2f-434b-b27d-ac7125061174"
      },
      "source": [
        "# check out the shape of everything\n",
        "print(\"This is the train shape:\" + str(X_train.shape))\n",
        "print(X_test.shape)\n",
        "print(y_train.shape)\n",
        "print(y_test.shape)\n",
        "print(df.shape)"
      ],
      "execution_count": null,
      "outputs": [
        {
          "output_type": "stream",
          "text": [
            "This is the train shape:(404, 13)\n",
            "(102, 13)\n",
            "(404,)\n",
            "(102,)\n",
            "(506, 14)\n"
          ],
          "name": "stdout"
        }
      ]
    },
    {
      "cell_type": "code",
      "metadata": {
        "id": "A8YRPyqErIKl"
      },
      "source": [
        "# let's build our first basic NN!\n",
        "# see p. 74 or so in Chollet\n",
        "# note that we haven't standardized our data yet,\n",
        "# but that's OK for our very first NN\n",
        "\n",
        "from tensorflow.keras import layers, Sequential\n",
        "\n",
        "# this simply sets up the model, \n",
        "model = Sequential() # like a blank canvas... I'm building a Neural Network\n",
        "# first hidden layer\n",
        "model.add(layers.Dense(64, #64 hidden units - 64 representations of data\n",
        "                       activation='relu', # turns negative numbers into... 0s!\n",
        "                        input_shape=(X_train.shape[1],))) # specify the input shape (only need once)\n",
        "# turn off a random 30% of the network at a time (for each weight update)\n",
        "model.add(layers.Dropout(0.3)) # random 30% turned off\n",
        "\n",
        "# second hidden layer\n",
        "model.add(layers.Dense(62, activation='relu')) # 32 representations of data, or nonlinear partial correlations\n",
        "model.add(layers.Dropout(0.1)) # turn OFF a random 10% of the network to force different branches/weights\n",
        "\n",
        "# third hidden layer\n",
        "model.add(layers.Dense(32, activation='relu')) # 32 representations of data, or nonlinear partial correlations\n",
        "model.add(layers.Dropout(0.1)) # turn OFF a random 10% of the network to force different branches/weights\n",
        "\n",
        "# fourth hidden layer\n",
        "model.add(layers.Dense(10, activation='relu')) # 32 representations of data, or nonlinear partial correlations\n",
        "model.add(layers.Dropout(0.1)) # turn OFF a random 10% of the network to force different branches/weights\n",
        "\n",
        "\n",
        "# output layer/node\n",
        "model.add(layers.Dense(1)) # the activation function here is 'linear' by default\n",
        "# linear allows for predictions between -Inf to Inf"
      ],
      "execution_count": null,
      "outputs": []
    },
    {
      "cell_type": "code",
      "metadata": {
        "id": "LJngDQh_rvuy"
      },
      "source": [
        "#  this compiles the model, specifies model evaluation metrics\n",
        "# but doesn't run the model yet\n",
        "model.compile(optimizer='rmsprop', loss='mse', metrics=['mae'])"
      ],
      "execution_count": null,
      "outputs": []
    },
    {
      "cell_type": "code",
      "metadata": {
        "id": "gEFX4EIAsSDb",
        "colab": {
          "base_uri": "https://localhost:8080/",
          "height": 1000
        },
        "outputId": "68ca7af8-bccc-4ddb-d6cb-82b0cb96f924"
      },
      "source": [
        "# now run the model!\n",
        "# let's store this as \"history\"\n",
        "history = model.fit(X_train, y_train,  # train data\n",
        "          validation_data=(X_test, y_test), # validation data\n",
        "          epochs=100,  # this is a hyperparameter that can be tuned\n",
        "          batch_size=10,  # this is a hyperparameter that can be tuned\n",
        "          verbose=1) # 0 = dont show verbose, 1 = show it!\n"
      ],
      "execution_count": null,
      "outputs": [
        {
          "output_type": "stream",
          "text": [
            "Epoch 1/100\n",
            "41/41 [==============================] - 0s 7ms/step - loss: 498.1193 - mae: 20.2886 - val_loss: 379.8402 - val_mae: 17.0722\n",
            "Epoch 2/100\n",
            "41/41 [==============================] - 0s 6ms/step - loss: 295.2862 - mae: 14.3709 - val_loss: 166.8787 - val_mae: 10.0367\n",
            "Epoch 3/100\n",
            "41/41 [==============================] - 0s 5ms/step - loss: 164.3703 - mae: 9.9441 - val_loss: 101.0484 - val_mae: 7.2678\n",
            "Epoch 4/100\n",
            "41/41 [==============================] - 0s 5ms/step - loss: 111.9479 - mae: 8.0908 - val_loss: 82.2763 - val_mae: 6.4941\n",
            "Epoch 5/100\n",
            "41/41 [==============================] - 0s 5ms/step - loss: 99.5909 - mae: 7.4657 - val_loss: 74.3763 - val_mae: 5.7743\n",
            "Epoch 6/100\n",
            "41/41 [==============================] - 0s 6ms/step - loss: 78.2143 - mae: 6.5715 - val_loss: 64.8085 - val_mae: 5.5062\n",
            "Epoch 7/100\n",
            "41/41 [==============================] - 0s 5ms/step - loss: 66.3969 - mae: 5.8462 - val_loss: 61.8940 - val_mae: 5.4509\n",
            "Epoch 8/100\n",
            "41/41 [==============================] - 0s 5ms/step - loss: 58.2369 - mae: 5.5058 - val_loss: 62.3760 - val_mae: 5.3181\n",
            "Epoch 9/100\n",
            "41/41 [==============================] - 0s 5ms/step - loss: 58.1974 - mae: 5.3832 - val_loss: 61.5573 - val_mae: 5.2779\n",
            "Epoch 10/100\n",
            "41/41 [==============================] - 0s 5ms/step - loss: 52.9013 - mae: 5.3629 - val_loss: 59.6806 - val_mae: 5.1627\n",
            "Epoch 11/100\n",
            "41/41 [==============================] - 0s 6ms/step - loss: 50.1209 - mae: 5.1252 - val_loss: 59.6967 - val_mae: 5.1105\n",
            "Epoch 12/100\n",
            "41/41 [==============================] - 0s 6ms/step - loss: 48.9667 - mae: 5.1163 - val_loss: 54.3773 - val_mae: 5.0629\n",
            "Epoch 13/100\n",
            "41/41 [==============================] - 0s 5ms/step - loss: 43.8804 - mae: 4.8459 - val_loss: 51.6340 - val_mae: 4.9751\n",
            "Epoch 14/100\n",
            "41/41 [==============================] - 0s 5ms/step - loss: 45.5713 - mae: 4.7527 - val_loss: 49.9884 - val_mae: 4.8539\n",
            "Epoch 15/100\n",
            "41/41 [==============================] - 0s 6ms/step - loss: 36.6741 - mae: 4.3824 - val_loss: 52.8531 - val_mae: 4.7492\n",
            "Epoch 16/100\n",
            "41/41 [==============================] - 0s 6ms/step - loss: 37.4834 - mae: 4.3821 - val_loss: 47.7985 - val_mae: 4.6226\n",
            "Epoch 17/100\n",
            "41/41 [==============================] - 0s 6ms/step - loss: 32.8816 - mae: 4.2689 - val_loss: 44.2244 - val_mae: 4.7170\n",
            "Epoch 18/100\n",
            "41/41 [==============================] - 0s 5ms/step - loss: 34.3599 - mae: 4.4074 - val_loss: 43.3411 - val_mae: 4.4204\n",
            "Epoch 19/100\n",
            "41/41 [==============================] - 0s 6ms/step - loss: 35.5354 - mae: 4.2779 - val_loss: 41.2013 - val_mae: 4.4247\n",
            "Epoch 20/100\n",
            "41/41 [==============================] - 0s 5ms/step - loss: 32.9656 - mae: 4.0999 - val_loss: 39.6929 - val_mae: 4.2767\n",
            "Epoch 21/100\n",
            "41/41 [==============================] - 0s 5ms/step - loss: 34.9771 - mae: 4.2157 - val_loss: 39.6903 - val_mae: 4.1428\n",
            "Epoch 22/100\n",
            "41/41 [==============================] - 0s 5ms/step - loss: 32.3694 - mae: 4.0184 - val_loss: 38.2239 - val_mae: 4.1246\n",
            "Epoch 23/100\n",
            "41/41 [==============================] - 0s 5ms/step - loss: 26.3321 - mae: 3.7611 - val_loss: 37.0056 - val_mae: 4.1988\n",
            "Epoch 24/100\n",
            "41/41 [==============================] - 0s 5ms/step - loss: 33.6415 - mae: 4.1272 - val_loss: 36.6676 - val_mae: 4.0954\n",
            "Epoch 25/100\n",
            "41/41 [==============================] - 0s 5ms/step - loss: 29.3885 - mae: 3.8651 - val_loss: 35.6940 - val_mae: 4.0774\n",
            "Epoch 26/100\n",
            "41/41 [==============================] - 0s 5ms/step - loss: 28.3233 - mae: 3.7350 - val_loss: 36.3074 - val_mae: 3.9622\n",
            "Epoch 27/100\n",
            "41/41 [==============================] - 0s 5ms/step - loss: 29.2806 - mae: 4.0238 - val_loss: 34.9219 - val_mae: 3.9325\n",
            "Epoch 28/100\n",
            "41/41 [==============================] - 0s 5ms/step - loss: 25.8923 - mae: 3.7777 - val_loss: 35.3377 - val_mae: 3.9128\n",
            "Epoch 29/100\n",
            "41/41 [==============================] - 0s 5ms/step - loss: 25.8271 - mae: 3.7803 - val_loss: 35.6873 - val_mae: 3.8862\n",
            "Epoch 30/100\n",
            "41/41 [==============================] - 0s 5ms/step - loss: 29.5579 - mae: 3.8873 - val_loss: 34.0419 - val_mae: 3.8010\n",
            "Epoch 31/100\n",
            "41/41 [==============================] - 0s 5ms/step - loss: 25.5698 - mae: 3.6387 - val_loss: 36.2843 - val_mae: 3.8701\n",
            "Epoch 32/100\n",
            "41/41 [==============================] - 0s 5ms/step - loss: 26.5163 - mae: 3.7532 - val_loss: 33.1688 - val_mae: 3.9635\n",
            "Epoch 33/100\n",
            "41/41 [==============================] - 0s 5ms/step - loss: 27.2015 - mae: 3.8198 - val_loss: 36.0132 - val_mae: 3.8457\n",
            "Epoch 34/100\n",
            "41/41 [==============================] - 0s 5ms/step - loss: 26.7238 - mae: 3.8053 - val_loss: 32.2187 - val_mae: 3.6431\n",
            "Epoch 35/100\n",
            "41/41 [==============================] - 0s 5ms/step - loss: 25.4231 - mae: 3.6731 - val_loss: 33.6207 - val_mae: 3.6964\n",
            "Epoch 36/100\n",
            "41/41 [==============================] - 0s 5ms/step - loss: 26.3208 - mae: 3.6953 - val_loss: 35.3177 - val_mae: 3.7525\n",
            "Epoch 37/100\n",
            "41/41 [==============================] - 0s 5ms/step - loss: 23.6125 - mae: 3.4892 - val_loss: 31.9967 - val_mae: 3.6198\n",
            "Epoch 38/100\n",
            "41/41 [==============================] - 0s 5ms/step - loss: 24.5218 - mae: 3.5442 - val_loss: 37.0977 - val_mae: 3.8611\n",
            "Epoch 39/100\n",
            "41/41 [==============================] - 0s 5ms/step - loss: 23.8715 - mae: 3.4654 - val_loss: 30.7780 - val_mae: 3.6441\n",
            "Epoch 40/100\n",
            "41/41 [==============================] - 0s 5ms/step - loss: 22.6259 - mae: 3.5614 - val_loss: 33.1497 - val_mae: 3.6146\n",
            "Epoch 41/100\n",
            "41/41 [==============================] - 0s 5ms/step - loss: 25.1885 - mae: 3.6192 - val_loss: 33.6119 - val_mae: 3.6256\n",
            "Epoch 42/100\n",
            "41/41 [==============================] - 0s 6ms/step - loss: 24.0706 - mae: 3.6569 - val_loss: 32.9680 - val_mae: 3.5943\n",
            "Epoch 43/100\n",
            "41/41 [==============================] - 0s 5ms/step - loss: 23.1299 - mae: 3.5627 - val_loss: 29.9897 - val_mae: 3.5415\n",
            "Epoch 44/100\n",
            "41/41 [==============================] - 0s 5ms/step - loss: 24.5692 - mae: 3.6573 - val_loss: 31.3681 - val_mae: 3.5076\n",
            "Epoch 45/100\n",
            "41/41 [==============================] - 0s 5ms/step - loss: 24.6796 - mae: 3.6204 - val_loss: 32.4291 - val_mae: 3.5491\n",
            "Epoch 46/100\n",
            "41/41 [==============================] - 0s 5ms/step - loss: 24.4133 - mae: 3.6002 - val_loss: 30.5213 - val_mae: 3.4800\n",
            "Epoch 47/100\n",
            "41/41 [==============================] - 0s 6ms/step - loss: 23.5924 - mae: 3.6071 - val_loss: 30.4087 - val_mae: 3.4766\n",
            "Epoch 48/100\n",
            "41/41 [==============================] - 0s 6ms/step - loss: 22.4786 - mae: 3.4272 - val_loss: 28.6856 - val_mae: 3.3781\n",
            "Epoch 49/100\n",
            "41/41 [==============================] - 0s 5ms/step - loss: 25.2375 - mae: 3.6564 - val_loss: 32.0183 - val_mae: 3.4594\n",
            "Epoch 50/100\n",
            "41/41 [==============================] - 0s 5ms/step - loss: 23.0643 - mae: 3.4178 - val_loss: 31.1212 - val_mae: 3.4292\n",
            "Epoch 51/100\n",
            "41/41 [==============================] - 0s 5ms/step - loss: 22.2969 - mae: 3.5212 - val_loss: 31.8059 - val_mae: 3.4501\n",
            "Epoch 52/100\n",
            "41/41 [==============================] - 0s 5ms/step - loss: 24.4512 - mae: 3.5601 - val_loss: 28.2306 - val_mae: 3.4737\n",
            "Epoch 53/100\n",
            "41/41 [==============================] - 0s 6ms/step - loss: 21.2013 - mae: 3.3681 - val_loss: 29.8701 - val_mae: 3.3674\n",
            "Epoch 54/100\n",
            "41/41 [==============================] - 0s 5ms/step - loss: 24.6431 - mae: 3.5449 - val_loss: 29.9434 - val_mae: 3.3635\n",
            "Epoch 55/100\n",
            "41/41 [==============================] - 0s 5ms/step - loss: 24.7923 - mae: 3.6696 - val_loss: 28.4041 - val_mae: 3.3517\n",
            "Epoch 56/100\n",
            "41/41 [==============================] - 0s 5ms/step - loss: 22.5878 - mae: 3.3921 - val_loss: 27.9691 - val_mae: 3.6272\n",
            "Epoch 57/100\n",
            "41/41 [==============================] - 0s 5ms/step - loss: 22.3413 - mae: 3.3646 - val_loss: 28.5440 - val_mae: 3.2946\n",
            "Epoch 58/100\n",
            "41/41 [==============================] - 0s 5ms/step - loss: 24.2168 - mae: 3.5728 - val_loss: 28.1389 - val_mae: 3.2742\n",
            "Epoch 59/100\n",
            "41/41 [==============================] - 0s 5ms/step - loss: 18.9438 - mae: 3.1444 - val_loss: 26.6793 - val_mae: 3.4014\n",
            "Epoch 60/100\n",
            "41/41 [==============================] - 0s 6ms/step - loss: 22.3653 - mae: 3.4955 - val_loss: 30.2245 - val_mae: 3.3486\n",
            "Epoch 61/100\n",
            "41/41 [==============================] - 0s 5ms/step - loss: 20.2099 - mae: 3.2638 - val_loss: 27.3995 - val_mae: 3.3118\n",
            "Epoch 62/100\n",
            "41/41 [==============================] - 0s 6ms/step - loss: 20.4600 - mae: 3.3043 - val_loss: 27.6263 - val_mae: 3.3212\n",
            "Epoch 63/100\n",
            "41/41 [==============================] - 0s 5ms/step - loss: 20.3398 - mae: 3.3349 - val_loss: 30.2718 - val_mae: 3.3709\n",
            "Epoch 64/100\n",
            "41/41 [==============================] - 0s 5ms/step - loss: 19.8165 - mae: 3.3073 - val_loss: 27.4805 - val_mae: 3.2065\n",
            "Epoch 65/100\n",
            "41/41 [==============================] - 0s 5ms/step - loss: 21.3399 - mae: 3.2635 - val_loss: 25.4736 - val_mae: 3.2404\n",
            "Epoch 66/100\n",
            "41/41 [==============================] - 0s 5ms/step - loss: 19.8600 - mae: 3.2268 - val_loss: 27.1436 - val_mae: 3.1839\n",
            "Epoch 67/100\n",
            "41/41 [==============================] - 0s 5ms/step - loss: 18.1253 - mae: 2.9276 - val_loss: 25.9835 - val_mae: 3.2755\n",
            "Epoch 68/100\n",
            "41/41 [==============================] - 0s 5ms/step - loss: 20.1868 - mae: 3.2482 - val_loss: 25.7876 - val_mae: 3.2327\n",
            "Epoch 69/100\n",
            "41/41 [==============================] - 0s 5ms/step - loss: 20.2146 - mae: 3.3447 - val_loss: 27.7527 - val_mae: 3.1885\n",
            "Epoch 70/100\n",
            "41/41 [==============================] - 0s 5ms/step - loss: 19.4260 - mae: 3.1885 - val_loss: 25.7528 - val_mae: 3.2864\n",
            "Epoch 71/100\n",
            "41/41 [==============================] - 0s 5ms/step - loss: 20.9855 - mae: 3.1370 - val_loss: 24.7974 - val_mae: 3.2620\n",
            "Epoch 72/100\n",
            "41/41 [==============================] - 0s 5ms/step - loss: 22.0742 - mae: 3.3335 - val_loss: 25.7862 - val_mae: 3.1957\n",
            "Epoch 73/100\n",
            "41/41 [==============================] - 0s 5ms/step - loss: 19.5033 - mae: 3.2517 - val_loss: 25.3674 - val_mae: 3.1304\n",
            "Epoch 74/100\n",
            "41/41 [==============================] - 0s 5ms/step - loss: 20.0005 - mae: 3.2062 - val_loss: 27.0383 - val_mae: 3.1574\n",
            "Epoch 75/100\n",
            "41/41 [==============================] - 0s 6ms/step - loss: 18.3895 - mae: 3.0797 - val_loss: 26.8708 - val_mae: 3.1716\n",
            "Epoch 76/100\n",
            "41/41 [==============================] - 0s 5ms/step - loss: 18.9181 - mae: 3.1271 - val_loss: 28.0192 - val_mae: 3.1923\n",
            "Epoch 77/100\n",
            "41/41 [==============================] - 0s 5ms/step - loss: 19.3062 - mae: 3.1231 - val_loss: 26.3920 - val_mae: 3.1025\n",
            "Epoch 78/100\n",
            "41/41 [==============================] - 0s 5ms/step - loss: 19.2584 - mae: 2.9430 - val_loss: 26.4988 - val_mae: 3.1354\n",
            "Epoch 79/100\n",
            "41/41 [==============================] - 0s 6ms/step - loss: 18.5096 - mae: 3.1417 - val_loss: 24.9005 - val_mae: 3.0898\n",
            "Epoch 80/100\n",
            "41/41 [==============================] - 0s 5ms/step - loss: 20.8032 - mae: 3.2534 - val_loss: 25.3824 - val_mae: 3.1613\n",
            "Epoch 81/100\n",
            "41/41 [==============================] - 0s 5ms/step - loss: 21.2569 - mae: 3.2852 - val_loss: 25.9373 - val_mae: 3.1586\n",
            "Epoch 82/100\n",
            "41/41 [==============================] - 0s 5ms/step - loss: 17.9474 - mae: 3.0964 - val_loss: 27.1063 - val_mae: 3.1489\n",
            "Epoch 83/100\n",
            "41/41 [==============================] - 0s 5ms/step - loss: 17.3319 - mae: 2.9823 - val_loss: 25.2010 - val_mae: 3.0775\n",
            "Epoch 84/100\n",
            "41/41 [==============================] - 0s 6ms/step - loss: 18.2768 - mae: 3.0220 - val_loss: 25.2042 - val_mae: 3.1640\n",
            "Epoch 85/100\n",
            "41/41 [==============================] - 0s 5ms/step - loss: 15.9246 - mae: 2.9136 - val_loss: 25.6030 - val_mae: 3.1162\n",
            "Epoch 86/100\n",
            "41/41 [==============================] - 0s 5ms/step - loss: 18.6520 - mae: 3.1766 - val_loss: 25.0273 - val_mae: 3.3458\n",
            "Epoch 87/100\n",
            "41/41 [==============================] - 0s 5ms/step - loss: 17.6378 - mae: 3.0815 - val_loss: 28.0527 - val_mae: 3.1402\n",
            "Epoch 88/100\n",
            "41/41 [==============================] - 0s 6ms/step - loss: 20.9315 - mae: 3.2763 - val_loss: 25.2056 - val_mae: 3.0419\n",
            "Epoch 89/100\n",
            "41/41 [==============================] - 0s 5ms/step - loss: 18.6057 - mae: 3.1887 - val_loss: 25.6584 - val_mae: 3.0890\n",
            "Epoch 90/100\n",
            "41/41 [==============================] - 0s 5ms/step - loss: 16.2936 - mae: 2.9785 - val_loss: 24.2937 - val_mae: 3.0514\n",
            "Epoch 91/100\n",
            "41/41 [==============================] - 0s 5ms/step - loss: 17.5686 - mae: 3.0721 - val_loss: 23.9090 - val_mae: 3.1317\n",
            "Epoch 92/100\n",
            "41/41 [==============================] - 0s 5ms/step - loss: 15.8659 - mae: 2.8797 - val_loss: 26.1926 - val_mae: 3.0667\n",
            "Epoch 93/100\n",
            "41/41 [==============================] - 0s 5ms/step - loss: 17.1678 - mae: 2.9796 - val_loss: 25.6273 - val_mae: 3.0222\n",
            "Epoch 94/100\n",
            "41/41 [==============================] - 0s 5ms/step - loss: 17.0891 - mae: 3.0485 - val_loss: 24.8030 - val_mae: 3.0659\n",
            "Epoch 95/100\n",
            "41/41 [==============================] - 0s 5ms/step - loss: 17.6956 - mae: 3.1150 - val_loss: 25.1577 - val_mae: 3.0864\n",
            "Epoch 96/100\n",
            "41/41 [==============================] - 0s 5ms/step - loss: 16.0509 - mae: 2.9326 - val_loss: 26.8620 - val_mae: 3.1387\n",
            "Epoch 97/100\n",
            "41/41 [==============================] - 0s 5ms/step - loss: 17.1647 - mae: 3.1026 - val_loss: 24.6349 - val_mae: 3.0310\n",
            "Epoch 98/100\n",
            "41/41 [==============================] - 0s 5ms/step - loss: 15.2978 - mae: 2.8610 - val_loss: 23.1445 - val_mae: 3.0641\n",
            "Epoch 99/100\n",
            "41/41 [==============================] - 0s 5ms/step - loss: 18.1932 - mae: 2.9935 - val_loss: 23.9815 - val_mae: 3.1068\n",
            "Epoch 100/100\n",
            "41/41 [==============================] - 0s 5ms/step - loss: 17.8297 - mae: 3.0706 - val_loss: 24.6724 - val_mae: 3.0936\n"
          ],
          "name": "stdout"
        }
      ]
    },
    {
      "cell_type": "code",
      "metadata": {
        "id": "7_y-0-rzvCKg",
        "colab": {
          "base_uri": "https://localhost:8080/",
          "height": 35
        },
        "outputId": "7f25328c-9038-4c27-9dcf-12c97dffd7fb"
      },
      "source": [
        "\"\"\"\n",
        " Note that the call to model.fit() returns a History object. \n",
        " This object has a member history, which is a dictionary containing data \n",
        " about everything that happened\n",
        "during training. Let’s look at it:\n",
        "\n",
        ">>> history_dict = history.history\n",
        ">>> history_dict.keys()\n",
        "\"\"\"\n",
        "\n",
        "history_dict = history.history\n",
        "history_dict.keys() \n",
        "\n",
        "# out of all of these, let's plot the val_mean_absolute_error"
      ],
      "execution_count": null,
      "outputs": [
        {
          "output_type": "execute_result",
          "data": {
            "text/plain": [
              "dict_keys(['loss', 'mae', 'val_loss', 'val_mae'])"
            ]
          },
          "metadata": {
            "tags": []
          },
          "execution_count": 62
        }
      ]
    },
    {
      "cell_type": "code",
      "metadata": {
        "id": "lTx6iyiHtpyG",
        "colab": {
          "base_uri": "https://localhost:8080/",
          "height": 295
        },
        "outputId": "527549db-88a1-445f-8b41-9e0aa1ffe58a"
      },
      "source": [
        "# let's see the training and validation accuracy by epoch\n",
        "history_dict = history.history\n",
        "loss_values = history_dict['loss'] # you can change this\n",
        "val_loss_values = history_dict['val_loss'] # you can also change this\n",
        "epochs = range(1, len(loss_values) + 1) #acc wasn't defined before\n",
        "plt.plot(epochs, loss_values, 'bo', label='Training loss')\n",
        "plt.plot(epochs, val_loss_values, 'orange', label='Validation loss')\n",
        "plt.title('Training and validation loss')\n",
        "plt.xlabel('Epochs')\n",
        "plt.ylabel('Loss')\n",
        "plt.legend()\n",
        "plt.show()"
      ],
      "execution_count": null,
      "outputs": [
        {
          "output_type": "display_data",
          "data": {
            "image/png": "[encoded data removed]",
            "text/plain": [
              "<Figure size 432x288 with 1 Axes>"
            ]
          },
          "metadata": {
            "tags": []
          }
        }
      ]
    },
    {
      "cell_type": "code",
      "metadata": {
        "id": "NYC_SGeZvoYt",
        "colab": {
          "base_uri": "https://localhost:8080/",
          "height": 202
        },
        "outputId": "0071f331-f549-46e3-9b5b-613218af2937"
      },
      "source": [
        "# we can look for the min value in the validation\n",
        "# and that's how we update our model and re-rerun\n",
        "# in our case, it looks like this happens around 100 epochs\n",
        "resultDF = pd.DataFrame(history_dict)\n",
        "resultDF.head()"
      ],
      "execution_count": null,
      "outputs": [
        {
          "output_type": "execute_result",
          "data": {
            "text/html": [
              "<div>\n",
              "<style scoped>\n",
              "    .dataframe tbody tr th:only-of-type {\n",
              "        vertical-align: middle;\n",
              "    }\n",
              "\n",
              "    .dataframe tbody tr th {\n",
              "        vertical-align: top;\n",
              "    }\n",
              "\n",
              "    .dataframe thead th {\n",
              "        text-align: right;\n",
              "    }\n",
              "</style>\n",
              "<table border=\"1\" class=\"dataframe\">\n",
              "  <thead>\n",
              "    <tr style=\"text-align: right;\">\n",
              "      <th></th>\n",
              "      <th>loss</th>\n",
              "      <th>mae</th>\n",
              "      <th>val_loss</th>\n",
              "      <th>val_mae</th>\n",
              "    </tr>\n",
              "  </thead>\n",
              "  <tbody>\n",
              "    <tr>\n",
              "      <th>0</th>\n",
              "      <td>498.119324</td>\n",
              "      <td>20.288568</td>\n",
              "      <td>379.840240</td>\n",
              "      <td>17.072229</td>\n",
              "    </tr>\n",
              "    <tr>\n",
              "      <th>1</th>\n",
              "      <td>295.286194</td>\n",
              "      <td>14.370872</td>\n",
              "      <td>166.878708</td>\n",
              "      <td>10.036700</td>\n",
              "    </tr>\n",
              "    <tr>\n",
              "      <th>2</th>\n",
              "      <td>164.370300</td>\n",
              "      <td>9.944109</td>\n",
              "      <td>101.048416</td>\n",
              "      <td>7.267835</td>\n",
              "    </tr>\n",
              "    <tr>\n",
              "      <th>3</th>\n",
              "      <td>111.947876</td>\n",
              "      <td>8.090803</td>\n",
              "      <td>82.276283</td>\n",
              "      <td>6.494064</td>\n",
              "    </tr>\n",
              "    <tr>\n",
              "      <th>4</th>\n",
              "      <td>99.590935</td>\n",
              "      <td>7.465653</td>\n",
              "      <td>74.376335</td>\n",
              "      <td>5.774340</td>\n",
              "    </tr>\n",
              "  </tbody>\n",
              "</table>\n",
              "</div>"
            ],
            "text/plain": [
              "         loss        mae    val_loss    val_mae\n",
              "0  498.119324  20.288568  379.840240  17.072229\n",
              "1  295.286194  14.370872  166.878708  10.036700\n",
              "2  164.370300   9.944109  101.048416   7.267835\n",
              "3  111.947876   8.090803   82.276283   6.494064\n",
              "4   99.590935   7.465653   74.376335   5.774340"
            ]
          },
          "metadata": {
            "tags": []
          },
          "execution_count": 64
        }
      ]
    },
    {
      "cell_type": "code",
      "metadata": {
        "id": "aH7yaUAuxQY6",
        "colab": {
          "base_uri": "https://localhost:8080/",
          "height": 79
        },
        "outputId": "a3e4af16-1f03-4712-8e39-a62b7393b95a"
      },
      "source": [
        "# show the row where you have a min value\n",
        "resultDF.loc[resultDF['val_loss'] == min(resultDF['val_loss'])]\n",
        "# so later on, we will re-run for what this min would be epochs\n",
        "# if you set a random seed, you'd get the same answers."
      ],
      "execution_count": null,
      "outputs": [
        {
          "output_type": "execute_result",
          "data": {
            "text/html": [
              "<div>\n",
              "<style scoped>\n",
              "    .dataframe tbody tr th:only-of-type {\n",
              "        vertical-align: middle;\n",
              "    }\n",
              "\n",
              "    .dataframe tbody tr th {\n",
              "        vertical-align: top;\n",
              "    }\n",
              "\n",
              "    .dataframe thead th {\n",
              "        text-align: right;\n",
              "    }\n",
              "</style>\n",
              "<table border=\"1\" class=\"dataframe\">\n",
              "  <thead>\n",
              "    <tr style=\"text-align: right;\">\n",
              "      <th></th>\n",
              "      <th>loss</th>\n",
              "      <th>mae</th>\n",
              "      <th>val_loss</th>\n",
              "      <th>val_mae</th>\n",
              "    </tr>\n",
              "  </thead>\n",
              "  <tbody>\n",
              "    <tr>\n",
              "      <th>97</th>\n",
              "      <td>15.297798</td>\n",
              "      <td>2.861026</td>\n",
              "      <td>23.144508</td>\n",
              "      <td>3.064058</td>\n",
              "    </tr>\n",
              "  </tbody>\n",
              "</table>\n",
              "</div>"
            ],
            "text/plain": [
              "         loss       mae   val_loss   val_mae\n",
              "97  15.297798  2.861026  23.144508  3.064058"
            ]
          },
          "metadata": {
            "tags": []
          },
          "execution_count": 65
        }
      ]
    },
    {
      "cell_type": "code",
      "metadata": {
        "id": "hgUX2LPms8se",
        "colab": {
          "base_uri": "https://localhost:8080/",
          "height": 283
        },
        "outputId": "a35ea134-eee1-4347-dde9-31061dc2540f"
      },
      "source": [
        "# we can show how our model fit - notice that it runs\n",
        "# for all 300 epochs - it didn't stop even if we \n",
        "# started getting overfit results\n",
        "myPreds = model.predict(X_Train)\n",
        "myActual = y_Train\n",
        "\n",
        "# import matplotlib\n",
        "plt.scatter(myPreds, myActual)"
      ],
      "execution_count": null,
      "outputs": [
        {
          "output_type": "execute_result",
          "data": {
            "text/plain": [
              "<matplotlib.collections.PathCollection at 0x7f241f09d390>"
            ]
          },
          "metadata": {
            "tags": []
          },
          "execution_count": 66
        },
        {
          "output_type": "display_data",
          "data": {
            "image/png": "[encoded data removed]",
            "text/plain": [
              "<Figure size 432x288 with 1 Axes>"
            ]
          },
          "metadata": {
            "tags": []
          }
        }
      ]
    },
    {
      "cell_type": "code",
      "metadata": {
        "id": "Ryl4ZIwTwdav",
        "colab": {
          "base_uri": "https://localhost:8080/",
          "height": 52
        },
        "outputId": "a03b0c37-4bc5-4a3c-bfb8-116e2bec5035"
      },
      "source": [
        "# we can get the results from our model\n",
        "results = model.evaluate(X_test, y_test)\n",
        "results # this shows the loss (raw value), and your metric (MAE)"
      ],
      "execution_count": null,
      "outputs": [
        {
          "output_type": "stream",
          "text": [
            "4/4 [==============================] - 0s 2ms/step - loss: 22.1081 - mae: 3.0936\n"
          ],
          "name": "stdout"
        },
        {
          "output_type": "execute_result",
          "data": {
            "text/plain": [
              "[22.108051300048828, 3.0936145782470703]"
            ]
          },
          "metadata": {
            "tags": []
          },
          "execution_count": 67
        }
      ]
    },
    {
      "cell_type": "code",
      "metadata": {
        "id": "NdFHcgTj2-p8",
        "colab": {
          "base_uri": "https://localhost:8080/",
          "height": 52
        },
        "outputId": "b2f2441f-51e8-4484-9a14-3f1bdb7b0f8a"
      },
      "source": [
        "# you can also calculate it from your results\n",
        "# left as an exercise from the students (MAE, RMSE, MAPE if not too many zeros)\n",
        "# link: https://www.dataquest.io/blog/understanding-regression-error-metrics/\n",
        "\n",
        "print(type(myPreds)) # numpy.ndarray\n",
        "print(type(myActual)) # pandas Series"
      ],
      "execution_count": null,
      "outputs": [
        {
          "output_type": "stream",
          "text": [
            "<class 'numpy.ndarray'>\n",
            "<class 'pandas.core.series.Series'>\n"
          ],
          "name": "stdout"
        }
      ]
    },
    {
      "cell_type": "code",
      "metadata": {
        "id": "qCogwoBf6NVG",
        "colab": {
          "base_uri": "https://localhost:8080/",
          "height": 381
        },
        "outputId": "56a3efc4-e50e-42fc-ddc4-f722b67b8632"
      },
      "source": [
        "# flatten the 1-D numpy array\n",
        "myPreds = np.ndarray.flatten(myPreds)\n",
        "myPreds"
      ],
      "execution_count": null,
      "outputs": [
        {
          "output_type": "execute_result",
          "data": {
            "text/plain": [
              "array([24.366447 , 24.25392  , 25.62575  , 10.934474 , 19.646885 ,\n",
              "       19.6665   , 21.736908 , 20.85972  , 16.249647 , 17.167656 ,\n",
              "        7.0716753, 11.702732 , 14.313288 ,  9.490281 , 44.701405 ,\n",
              "       33.393143 , 23.675505 , 39.759857 , 32.17106  , 21.594667 ,\n",
              "       23.995909 , 21.4416   , 18.460758 , 27.461487 , 20.913113 ,\n",
              "       12.513064 , 17.876123 , 16.742496 , 39.536003 , 18.015972 ,\n",
              "       15.275333 , 17.457716 , 19.72353  , 20.447659 , 26.478317 ,\n",
              "       18.761883 , 10.045512 , 24.890438 , 13.884739 , 12.728947 ,\n",
              "       24.524637 , 19.362144 , 21.260708 , 14.4281025, 23.147799 ,\n",
              "       23.807346 , 19.14471  , 18.971594 , 13.219647 , 22.36725  ,\n",
              "       15.679651 , 16.379473 , 21.01969  , 35.55837  , 14.613085 ,\n",
              "       19.482891 , 19.267916 , 17.492275 , 12.843841 , 19.886667 ,\n",
              "       20.005013 , 20.024796 , 34.51314  , 33.79132  , 17.24121  ,\n",
              "       32.726734 , 15.745659 , 19.336857 , 13.189475 , 21.129843 ,\n",
              "       20.176384 , 21.994774 , 28.728655 , 28.444454 , 28.369518 ,\n",
              "        9.233924 , 42.356674 , 21.967852 , 25.36741  , 17.533512 ,\n",
              "       26.292887 , 18.96246  , 18.273893 , 43.283688 , 45.274754 ,\n",
              "       24.132406 , 22.322075 , 13.436421 , 26.56974  , 14.464439 ,\n",
              "       17.351    , 10.766455 , 23.48485  , 29.399157 , 21.719738 ,\n",
              "       20.125578 ,  9.02438  , 24.785215 , 13.046682 , 17.609406 ,\n",
              "       23.524212 , 20.252174 ], dtype=float32)"
            ]
          },
          "metadata": {
            "tags": []
          },
          "execution_count": 69
        }
      ]
    },
    {
      "cell_type": "code",
      "metadata": {
        "id": "uB-Gwl1363SO",
        "colab": {
          "base_uri": "https://localhost:8080/",
          "height": 202
        },
        "outputId": "e8a1d5f6-7352-4ac2-e7c0-832acd443554"
      },
      "source": [
        "# we can put the predictions side by side\n",
        "# need to drop the index\n",
        "myPreds = pd.DataFrame(myPreds)\n",
        "myPreds.reset_index(drop=True)\n",
        "myPreds.rename(columns={0: \"MyPreds\"}, inplace=True)\n",
        "myPreds.dtypes\n",
        "myPreds.head()"
      ],
      "execution_count": null,
      "outputs": [
        {
          "output_type": "execute_result",
          "data": {
            "text/html": [
              "<div>\n",
              "<style scoped>\n",
              "    .dataframe tbody tr th:only-of-type {\n",
              "        vertical-align: middle;\n",
              "    }\n",
              "\n",
              "    .dataframe tbody tr th {\n",
              "        vertical-align: top;\n",
              "    }\n",
              "\n",
              "    .dataframe thead th {\n",
              "        text-align: right;\n",
              "    }\n",
              "</style>\n",
              "<table border=\"1\" class=\"dataframe\">\n",
              "  <thead>\n",
              "    <tr style=\"text-align: right;\">\n",
              "      <th></th>\n",
              "      <th>MyPreds</th>\n",
              "    </tr>\n",
              "  </thead>\n",
              "  <tbody>\n",
              "    <tr>\n",
              "      <th>0</th>\n",
              "      <td>24.366447</td>\n",
              "    </tr>\n",
              "    <tr>\n",
              "      <th>1</th>\n",
              "      <td>24.253920</td>\n",
              "    </tr>\n",
              "    <tr>\n",
              "      <th>2</th>\n",
              "      <td>25.625750</td>\n",
              "    </tr>\n",
              "    <tr>\n",
              "      <th>3</th>\n",
              "      <td>10.934474</td>\n",
              "    </tr>\n",
              "    <tr>\n",
              "      <th>4</th>\n",
              "      <td>19.646885</td>\n",
              "    </tr>\n",
              "  </tbody>\n",
              "</table>\n",
              "</div>"
            ],
            "text/plain": [
              "     MyPreds\n",
              "0  24.366447\n",
              "1  24.253920\n",
              "2  25.625750\n",
              "3  10.934474\n",
              "4  19.646885"
            ]
          },
          "metadata": {
            "tags": []
          },
          "execution_count": 70
        }
      ]
    },
    {
      "cell_type": "code",
      "metadata": {
        "id": "JamVw0Yr7Skp",
        "colab": {
          "base_uri": "https://localhost:8080/",
          "height": 202
        },
        "outputId": "09511d12-7ab8-45ef-bfba-d7562914f4c2"
      },
      "source": [
        "# your actual predictions\n",
        "# note, I put these in a numpy array\n",
        "# since the index was being annoying\n",
        "myActual = pd.DataFrame(np.array(y_test))\n",
        "myActual.reset_index(drop=True)\n",
        "myActual.rename(columns={0: \"MyActual\"}, inplace=True)\n",
        "myActual.dtypes\n",
        "myActual.head()"
      ],
      "execution_count": null,
      "outputs": [
        {
          "output_type": "execute_result",
          "data": {
            "text/html": [
              "<div>\n",
              "<style scoped>\n",
              "    .dataframe tbody tr th:only-of-type {\n",
              "        vertical-align: middle;\n",
              "    }\n",
              "\n",
              "    .dataframe tbody tr th {\n",
              "        vertical-align: top;\n",
              "    }\n",
              "\n",
              "    .dataframe thead th {\n",
              "        text-align: right;\n",
              "    }\n",
              "</style>\n",
              "<table border=\"1\" class=\"dataframe\">\n",
              "  <thead>\n",
              "    <tr style=\"text-align: right;\">\n",
              "      <th></th>\n",
              "      <th>MyActual</th>\n",
              "    </tr>\n",
              "  </thead>\n",
              "  <tbody>\n",
              "    <tr>\n",
              "      <th>0</th>\n",
              "      <td>22.6</td>\n",
              "    </tr>\n",
              "    <tr>\n",
              "      <th>1</th>\n",
              "      <td>50.0</td>\n",
              "    </tr>\n",
              "    <tr>\n",
              "      <th>2</th>\n",
              "      <td>23.0</td>\n",
              "    </tr>\n",
              "    <tr>\n",
              "      <th>3</th>\n",
              "      <td>8.3</td>\n",
              "    </tr>\n",
              "    <tr>\n",
              "      <th>4</th>\n",
              "      <td>21.2</td>\n",
              "    </tr>\n",
              "  </tbody>\n",
              "</table>\n",
              "</div>"
            ],
            "text/plain": [
              "   MyActual\n",
              "0      22.6\n",
              "1      50.0\n",
              "2      23.0\n",
              "3       8.3\n",
              "4      21.2"
            ]
          },
          "metadata": {
            "tags": []
          },
          "execution_count": 71
        }
      ]
    },
    {
      "cell_type": "code",
      "metadata": {
        "id": "V2EKeiwl7Nz2",
        "colab": {
          "base_uri": "https://localhost:8080/",
          "height": 202
        },
        "outputId": "e0bbaf7f-ce6a-47bb-ab2f-97d0c9a3e859"
      },
      "source": [
        "allResults = pd.concat([myPreds, myActual], axis=1)\n",
        "allResults.head()"
      ],
      "execution_count": null,
      "outputs": [
        {
          "output_type": "execute_result",
          "data": {
            "text/html": [
              "<div>\n",
              "<style scoped>\n",
              "    .dataframe tbody tr th:only-of-type {\n",
              "        vertical-align: middle;\n",
              "    }\n",
              "\n",
              "    .dataframe tbody tr th {\n",
              "        vertical-align: top;\n",
              "    }\n",
              "\n",
              "    .dataframe thead th {\n",
              "        text-align: right;\n",
              "    }\n",
              "</style>\n",
              "<table border=\"1\" class=\"dataframe\">\n",
              "  <thead>\n",
              "    <tr style=\"text-align: right;\">\n",
              "      <th></th>\n",
              "      <th>MyPreds</th>\n",
              "      <th>MyActual</th>\n",
              "    </tr>\n",
              "  </thead>\n",
              "  <tbody>\n",
              "    <tr>\n",
              "      <th>0</th>\n",
              "      <td>24.366447</td>\n",
              "      <td>22.6</td>\n",
              "    </tr>\n",
              "    <tr>\n",
              "      <th>1</th>\n",
              "      <td>24.253920</td>\n",
              "      <td>50.0</td>\n",
              "    </tr>\n",
              "    <tr>\n",
              "      <th>2</th>\n",
              "      <td>25.625750</td>\n",
              "      <td>23.0</td>\n",
              "    </tr>\n",
              "    <tr>\n",
              "      <th>3</th>\n",
              "      <td>10.934474</td>\n",
              "      <td>8.3</td>\n",
              "    </tr>\n",
              "    <tr>\n",
              "      <th>4</th>\n",
              "      <td>19.646885</td>\n",
              "      <td>21.2</td>\n",
              "    </tr>\n",
              "  </tbody>\n",
              "</table>\n",
              "</div>"
            ],
            "text/plain": [
              "     MyPreds  MyActual\n",
              "0  24.366447      22.6\n",
              "1  24.253920      50.0\n",
              "2  25.625750      23.0\n",
              "3  10.934474       8.3\n",
              "4  19.646885      21.2"
            ]
          },
          "metadata": {
            "tags": []
          },
          "execution_count": 72
        }
      ]
    },
    {
      "cell_type": "code",
      "metadata": {
        "id": "Wj3wT7F6-Tzd",
        "colab": {
          "base_uri": "https://localhost:8080/",
          "height": 69
        },
        "outputId": "8b9f0323-4940-41c8-d51b-a45d9be1bd66"
      },
      "source": [
        "# you can then calculate all sorts of metrics\n",
        "# on this dataframe\n",
        "allResults['AbsErr'] = abs(allResults['MyPreds'] - allResults['MyActual'])\n",
        "allResults.head()\n",
        "# now it's easy to calculate MAE\n",
        "print(np.mean(allResults['AbsErr']))\n",
        "\n",
        "# which is the same as:\n",
        "model.evaluate(X_test, y_test)\n",
        "\n",
        "# think of all the other regression metrics you can make!\n",
        "\n",
        "# I much prefer to have control of my results\n",
        "# like this! You can imagine how nice it is\n",
        "# to extract TPR, TFR and other things for a \n",
        "# classification problem\n",
        "\n",
        "# and you can also imagine how nice it is\n",
        "# for a k-fold cross-validation! \n",
        "# just need to add fold information"
      ],
      "execution_count": null,
      "outputs": [
        {
          "output_type": "stream",
          "text": [
            "3.0936143276738197\n",
            "4/4 [==============================] - 0s 2ms/step - loss: 22.1081 - mae: 3.0936\n"
          ],
          "name": "stdout"
        },
        {
          "output_type": "execute_result",
          "data": {
            "text/plain": [
              "[22.108051300048828, 3.0936145782470703]"
            ]
          },
          "metadata": {
            "tags": []
          },
          "execution_count": 73
        }
      ]
    },
    {
      "cell_type": "code",
      "metadata": {
        "id": "J3zc5juv_VHE"
      },
      "source": [
        "# this is how we can save a .csv to our Google Drive\n",
        "allResults.to_csv('/content/drive/My Drive/Spring 2020 Materials/Week 1/Module1/Script and Data/test.csv')\n",
        "\n",
        "# if we need to make a new directory, we could do:\n",
        "# link: https://stackoverflow.com/questions/54172874/making-two-new-directory-in-google-colab-and-join-them\n",
        "import tensorflow as tf\n",
        "\n",
        "#Create a new directory (a folder) in your Drive\n",
        "tf.io.gfile.mkdir('/content/drive/My Drive/Spring 2020 Materials/Week 1/Module1/Script and Data/My First NN Results')\n",
        "allResults.to_csv('/content/drive/My Drive/Spring 2020 Materials/Week 1/Module1/Script and Data/My First NN Results/Results_NN_SimpleHoldout.csv')"
      ],
      "execution_count": null,
      "outputs": []
    },
    {
      "cell_type": "code",
      "metadata": {
        "id": "sfxTrCd60TUz",
        "colab": {
          "base_uri": "https://localhost:8080/",
          "height": 297
        },
        "outputId": "1c183745-0a43-4bf1-d3d5-cda152cd0aff"
      },
      "source": [
        "# TO DO: make it a nice subplot for training and validation\n",
        "# results, with a nice axes and a main title,\n",
        "# then save the image to your Google Drive\n",
        "# a long with a .csv of actual vs. predicted results\n",
        "\n",
        "# nice link: https://matplotlib.org/gallery/subplots_axes_and_figures/figure_title.html\n",
        "\n",
        "# specify the dimensions \n",
        "fig, axes = plt.subplots(1,2) # 1 row, 2 columns\n",
        "\n",
        "# add a main title across top\n",
        "#fig.suptitle(\"My Results\", fontsize=20)\n",
        "\n",
        "# \tval_loss\tval_mean_absolute_error\tloss\tmean_absolute_error\n",
        "\n",
        "# this makes the individual subplots\n",
        "# Training Results\n",
        "axes[0].scatter(x=y_train, y=model.predict(X_train)) #first row, first entry (left top)\n",
        "axes[0].set_xlabel(\"Actual\", fontsize=10)\n",
        "axes[0].set_ylabel(\"Predicted\",  fontsize=10)\n",
        "axes[0].set_title(\"Training\")\n",
        "# add 45 deg line\n",
        "x = np.linspace(*axes[0].get_xlim())\n",
        "axes[0].plot(x, x, color='red')\n",
        "# Validation Results\n",
        "axes[1].scatter(x=y_test, y=model.predict(X_test)) # first row, second entry (right top)\n",
        "axes[1].set_xlabel(\"Actual\", fontsize=10)\n",
        "axes[1].set_ylabel(\"Predicted\",  fontsize=10)\n",
        "axes[1].set_title(\"Validation\")\n",
        "# add 45 deg line\n",
        "x = np.linspace(*axes[1].get_xlim())\n",
        "axes[1].plot(x, x, color='red')\n",
        "\n",
        "# tight layout\n",
        "fig.tight_layout()\n",
        "\n",
        "# by adding this line of code, we can save our plot to our Google Drive\n",
        "# link: https://chartio.com/resources/tutorials/how-to-save-a-plot-to-a-file-using-matplotlib/\n",
        "plt.savefig('/content/drive/My Drive/Spring 2020 Materials/Week 1/Module1/Script and Data/My First NN Results/Results Plot.png')\n",
        "\n",
        "# show the plot\n",
        "plt.show()"
      ],
      "execution_count": null,
      "outputs": [
        {
          "output_type": "display_data",
          "data": {
            "image/png": "[encoded data removed]",
            "text/plain": [
              "<Figure size 432x288 with 2 Axes>"
            ]
          },
          "metadata": {
            "tags": []
          }
        }
      ]
    },
    {
      "cell_type": "markdown",
      "metadata": {
        "id": "ae2fHPzfxtq3"
      },
      "source": [
        "## Re-run the model for 100 epochs\n",
        "since this is the best fit of the model"
      ]
    },
    {
      "cell_type": "code",
      "metadata": {
        "id": "gvAu19QSxrZe"
      },
      "source": [
        "# let's try to re-run the model for 100 epochs\n",
        "# then we can save the results"
      ],
      "execution_count": null,
      "outputs": []
    },
    {
      "cell_type": "markdown",
      "metadata": {
        "id": "X2MPi1BxyUe0"
      },
      "source": [
        "## Introducing Early-Stopping\n",
        "It would be nice if our model would stop once it stops overfitting. \n",
        "\n",
        "Here's a nice link: https://machinelearningmastery.com/how-to-stop-training-deep-neural-networks-at-the-right-time-using-early-stopping/"
      ]
    },
    {
      "cell_type": "code",
      "metadata": {
        "id": "ZSvwe--Iwbr0",
        "colab": {
          "base_uri": "https://localhost:8080/",
          "height": 1000
        },
        "outputId": "d6e8299b-bf79-4f6b-b324-d7fba8b64e3c"
      },
      "source": [
        "# don't forget you can also include patience (if you want)\n",
        "# simple early stopping\n",
        "from tensorflow.keras.callbacks import EarlyStopping\n",
        "es = EarlyStopping(monitor='val_loss', mode='min', \n",
        "                   # LOOK HOW QUICK IT STOPS IF YOU DON'T USE\n",
        "                   # PATIENCE - SUBJECT TO NOISE!!!\n",
        "                   # will vary based on every problem you tackle\n",
        "                   # try a patience of 2, 5, 10, 50, 100...\n",
        "                   # what do you notice?\n",
        "                   patience=50, \n",
        "                   verbose=1)\n",
        "# fit model\n",
        "history = model.fit(X_train, y_train, \n",
        "                    validation_data=(X_test, y_test), \n",
        "                    epochs=4000, \n",
        "                    verbose=1, \n",
        "                    callbacks=[es]) #notice we won't have to manually watch it\n",
        "                    # "
      ],
      "execution_count": null,
      "outputs": [
        {
          "output_type": "stream",
          "text": [
            "Epoch 1/4000\n",
            "13/13 [==============================] - 0s 9ms/step - loss: 16.6967 - mae: 2.9789 - val_loss: 23.1939 - val_mae: 3.0728\n",
            "Epoch 2/4000\n",
            "13/13 [==============================] - 0s 8ms/step - loss: 14.8427 - mae: 2.8107 - val_loss: 21.3655 - val_mae: 3.0995\n",
            "Epoch 3/4000\n",
            "13/13 [==============================] - 0s 8ms/step - loss: 14.8718 - mae: 2.8037 - val_loss: 21.6387 - val_mae: 3.0531\n",
            "Epoch 4/4000\n",
            "13/13 [==============================] - 0s 8ms/step - loss: 17.0665 - mae: 2.9433 - val_loss: 20.9626 - val_mae: 3.0922\n",
            "Epoch 5/4000\n",
            "13/13 [==============================] - 0s 8ms/step - loss: 17.5880 - mae: 2.9166 - val_loss: 21.4800 - val_mae: 3.0522\n",
            "Epoch 6/4000\n",
            "13/13 [==============================] - 0s 8ms/step - loss: 16.5172 - mae: 2.9127 - val_loss: 21.7624 - val_mae: 3.0441\n",
            "Epoch 7/4000\n",
            "13/13 [==============================] - 0s 8ms/step - loss: 15.3547 - mae: 2.8051 - val_loss: 20.6347 - val_mae: 3.0582\n",
            "Epoch 8/4000\n",
            "13/13 [==============================] - 0s 9ms/step - loss: 15.8705 - mae: 2.9892 - val_loss: 21.2084 - val_mae: 3.0256\n",
            "Epoch 9/4000\n",
            "13/13 [==============================] - 0s 9ms/step - loss: 15.2506 - mae: 2.9298 - val_loss: 21.1025 - val_mae: 3.0170\n",
            "Epoch 10/4000\n",
            "13/13 [==============================] - 0s 8ms/step - loss: 18.8686 - mae: 3.0434 - val_loss: 19.8834 - val_mae: 3.0843\n",
            "Epoch 11/4000\n",
            "13/13 [==============================] - 0s 8ms/step - loss: 17.8156 - mae: 3.1079 - val_loss: 21.5448 - val_mae: 3.0350\n",
            "Epoch 12/4000\n",
            "13/13 [==============================] - 0s 11ms/step - loss: 17.0739 - mae: 3.0619 - val_loss: 21.0456 - val_mae: 3.0400\n",
            "Epoch 13/4000\n",
            "13/13 [==============================] - 0s 8ms/step - loss: 15.0999 - mae: 2.9038 - val_loss: 20.5848 - val_mae: 3.0945\n",
            "Epoch 14/4000\n",
            "13/13 [==============================] - 0s 8ms/step - loss: 15.8389 - mae: 2.8533 - val_loss: 20.3484 - val_mae: 3.0658\n",
            "Epoch 15/4000\n",
            "13/13 [==============================] - 0s 8ms/step - loss: 17.3681 - mae: 2.9728 - val_loss: 19.5937 - val_mae: 3.1342\n",
            "Epoch 16/4000\n",
            "13/13 [==============================] - 0s 9ms/step - loss: 14.3590 - mae: 2.6856 - val_loss: 21.0750 - val_mae: 3.0356\n",
            "Epoch 17/4000\n",
            "13/13 [==============================] - 0s 9ms/step - loss: 14.6310 - mae: 2.7650 - val_loss: 20.1746 - val_mae: 3.0761\n",
            "Epoch 18/4000\n",
            "13/13 [==============================] - 0s 9ms/step - loss: 15.7543 - mae: 2.8618 - val_loss: 21.6942 - val_mae: 3.0072\n",
            "Epoch 19/4000\n",
            "13/13 [==============================] - 0s 8ms/step - loss: 14.4437 - mae: 2.7666 - val_loss: 19.7689 - val_mae: 3.0821\n",
            "Epoch 20/4000\n",
            "13/13 [==============================] - 0s 8ms/step - loss: 14.9018 - mae: 2.7609 - val_loss: 20.3013 - val_mae: 2.9969\n",
            "Epoch 21/4000\n",
            "13/13 [==============================] - 0s 9ms/step - loss: 15.8871 - mae: 2.9223 - val_loss: 21.5309 - val_mae: 2.9804\n",
            "Epoch 22/4000\n",
            "13/13 [==============================] - 0s 8ms/step - loss: 16.7832 - mae: 2.9743 - val_loss: 19.7082 - val_mae: 3.0433\n",
            "Epoch 23/4000\n",
            "13/13 [==============================] - 0s 8ms/step - loss: 17.2672 - mae: 2.9598 - val_loss: 20.0443 - val_mae: 2.9906\n",
            "Epoch 24/4000\n",
            "13/13 [==============================] - 0s 8ms/step - loss: 17.8618 - mae: 2.9679 - val_loss: 20.9572 - val_mae: 3.0239\n",
            "Epoch 25/4000\n",
            "13/13 [==============================] - 0s 9ms/step - loss: 16.6188 - mae: 2.8957 - val_loss: 20.8144 - val_mae: 3.0042\n",
            "Epoch 26/4000\n",
            "13/13 [==============================] - 0s 9ms/step - loss: 14.5562 - mae: 2.7974 - val_loss: 20.2034 - val_mae: 2.9925\n",
            "Epoch 27/4000\n",
            "13/13 [==============================] - 0s 8ms/step - loss: 16.5892 - mae: 3.0041 - val_loss: 20.6242 - val_mae: 2.9780\n",
            "Epoch 28/4000\n",
            "13/13 [==============================] - 0s 8ms/step - loss: 13.9995 - mae: 2.7350 - val_loss: 19.9431 - val_mae: 2.9696\n",
            "Epoch 29/4000\n",
            "13/13 [==============================] - 0s 9ms/step - loss: 14.6574 - mae: 2.8690 - val_loss: 19.8615 - val_mae: 2.9913\n",
            "Epoch 30/4000\n",
            "13/13 [==============================] - 0s 9ms/step - loss: 15.7271 - mae: 2.9082 - val_loss: 21.1902 - val_mae: 2.9935\n",
            "Epoch 31/4000\n",
            "13/13 [==============================] - 0s 8ms/step - loss: 15.9198 - mae: 2.9230 - val_loss: 20.4109 - val_mae: 2.9555\n",
            "Epoch 32/4000\n",
            "13/13 [==============================] - 0s 8ms/step - loss: 16.9072 - mae: 2.8728 - val_loss: 20.1392 - val_mae: 2.9612\n",
            "Epoch 33/4000\n",
            "13/13 [==============================] - 0s 8ms/step - loss: 14.5854 - mae: 2.7396 - val_loss: 20.6247 - val_mae: 2.9553\n",
            "Epoch 34/4000\n",
            "13/13 [==============================] - 0s 9ms/step - loss: 15.7695 - mae: 2.9191 - val_loss: 20.8126 - val_mae: 2.9334\n",
            "Epoch 35/4000\n",
            "13/13 [==============================] - 0s 8ms/step - loss: 15.3606 - mae: 2.9007 - val_loss: 20.3092 - val_mae: 2.9533\n",
            "Epoch 36/4000\n",
            "13/13 [==============================] - 0s 9ms/step - loss: 17.5365 - mae: 2.9091 - val_loss: 19.8987 - val_mae: 3.0089\n",
            "Epoch 37/4000\n",
            "13/13 [==============================] - 0s 9ms/step - loss: 15.8746 - mae: 2.8279 - val_loss: 19.1105 - val_mae: 2.9979\n",
            "Epoch 38/4000\n",
            "13/13 [==============================] - 0s 9ms/step - loss: 15.0624 - mae: 2.7752 - val_loss: 19.8390 - val_mae: 2.9682\n",
            "Epoch 39/4000\n",
            "13/13 [==============================] - 0s 8ms/step - loss: 15.5446 - mae: 2.8152 - val_loss: 21.8714 - val_mae: 2.9841\n",
            "Epoch 40/4000\n",
            "13/13 [==============================] - 0s 8ms/step - loss: 15.8048 - mae: 2.8975 - val_loss: 21.4697 - val_mae: 2.9974\n",
            "Epoch 41/4000\n",
            "13/13 [==============================] - 0s 8ms/step - loss: 15.7864 - mae: 2.8744 - val_loss: 20.8421 - val_mae: 2.9792\n",
            "Epoch 42/4000\n",
            "13/13 [==============================] - 0s 9ms/step - loss: 14.9291 - mae: 2.8358 - val_loss: 19.8588 - val_mae: 3.0208\n",
            "Epoch 43/4000\n",
            "13/13 [==============================] - 0s 8ms/step - loss: 14.3888 - mae: 2.8352 - val_loss: 20.0557 - val_mae: 3.0380\n",
            "Epoch 44/4000\n",
            "13/13 [==============================] - 0s 9ms/step - loss: 13.4061 - mae: 2.7461 - val_loss: 20.8946 - val_mae: 2.9646\n",
            "Epoch 45/4000\n",
            "13/13 [==============================] - 0s 8ms/step - loss: 16.1606 - mae: 2.8875 - val_loss: 20.4508 - val_mae: 2.9737\n",
            "Epoch 46/4000\n",
            "13/13 [==============================] - 0s 9ms/step - loss: 15.2194 - mae: 2.8292 - val_loss: 19.7720 - val_mae: 2.9913\n",
            "Epoch 47/4000\n",
            "13/13 [==============================] - 0s 8ms/step - loss: 15.6772 - mae: 2.9021 - val_loss: 21.6001 - val_mae: 2.9871\n",
            "Epoch 48/4000\n",
            "13/13 [==============================] - 0s 8ms/step - loss: 12.5578 - mae: 2.6256 - val_loss: 20.3646 - val_mae: 2.9810\n",
            "Epoch 49/4000\n",
            "13/13 [==============================] - 0s 8ms/step - loss: 14.2676 - mae: 2.8478 - val_loss: 20.8002 - val_mae: 2.9597\n",
            "Epoch 50/4000\n",
            "13/13 [==============================] - 0s 9ms/step - loss: 17.9040 - mae: 2.9525 - val_loss: 19.0594 - val_mae: 3.0440\n",
            "Epoch 51/4000\n",
            "13/13 [==============================] - 0s 10ms/step - loss: 13.1411 - mae: 2.6467 - val_loss: 20.9095 - val_mae: 2.9420\n",
            "Epoch 52/4000\n",
            "13/13 [==============================] - 0s 8ms/step - loss: 14.3499 - mae: 2.7728 - val_loss: 19.6242 - val_mae: 2.9543\n",
            "Epoch 53/4000\n",
            "13/13 [==============================] - 0s 9ms/step - loss: 11.5762 - mae: 2.5641 - val_loss: 19.6928 - val_mae: 2.9402\n",
            "Epoch 54/4000\n",
            "13/13 [==============================] - 0s 26ms/step - loss: 13.0743 - mae: 2.6308 - val_loss: 20.2844 - val_mae: 2.9813\n",
            "Epoch 55/4000\n",
            "13/13 [==============================] - 0s 8ms/step - loss: 14.6404 - mae: 2.8333 - val_loss: 20.9373 - val_mae: 2.9817\n",
            "Epoch 56/4000\n",
            "13/13 [==============================] - 0s 8ms/step - loss: 13.6175 - mae: 2.6998 - val_loss: 19.2493 - val_mae: 2.9565\n",
            "Epoch 57/4000\n",
            "13/13 [==============================] - 0s 8ms/step - loss: 15.4191 - mae: 2.8499 - val_loss: 18.6236 - val_mae: 2.9815\n",
            "Epoch 58/4000\n",
            "13/13 [==============================] - 0s 8ms/step - loss: 15.7861 - mae: 2.8362 - val_loss: 19.7121 - val_mae: 2.9626\n",
            "Epoch 59/4000\n",
            "13/13 [==============================] - 0s 8ms/step - loss: 15.3276 - mae: 2.7493 - val_loss: 19.7415 - val_mae: 2.9547\n",
            "Epoch 60/4000\n",
            "13/13 [==============================] - 0s 8ms/step - loss: 15.4411 - mae: 2.8392 - val_loss: 20.9121 - val_mae: 2.9322\n",
            "Epoch 61/4000\n",
            "13/13 [==============================] - 0s 8ms/step - loss: 16.9112 - mae: 2.9531 - val_loss: 19.3407 - val_mae: 2.9229\n",
            "Epoch 62/4000\n",
            "13/13 [==============================] - 0s 9ms/step - loss: 12.2874 - mae: 2.6254 - val_loss: 20.4131 - val_mae: 2.9478\n",
            "Epoch 63/4000\n",
            "13/13 [==============================] - 0s 8ms/step - loss: 15.1690 - mae: 2.7912 - val_loss: 19.5394 - val_mae: 2.9636\n",
            "Epoch 64/4000\n",
            "13/13 [==============================] - 0s 8ms/step - loss: 14.1185 - mae: 2.8110 - val_loss: 18.4835 - val_mae: 2.9977\n",
            "Epoch 65/4000\n",
            "13/13 [==============================] - 0s 8ms/step - loss: 13.9587 - mae: 2.7926 - val_loss: 18.6387 - val_mae: 2.9405\n",
            "Epoch 66/4000\n",
            "13/13 [==============================] - 0s 9ms/step - loss: 14.3971 - mae: 2.8207 - val_loss: 21.9911 - val_mae: 2.9878\n",
            "Epoch 67/4000\n",
            "13/13 [==============================] - 0s 8ms/step - loss: 14.6552 - mae: 2.7856 - val_loss: 21.0769 - val_mae: 2.9695\n",
            "Epoch 68/4000\n",
            "13/13 [==============================] - 0s 10ms/step - loss: 14.2647 - mae: 2.8667 - val_loss: 18.9101 - val_mae: 2.9785\n",
            "Epoch 69/4000\n",
            "13/13 [==============================] - 0s 8ms/step - loss: 14.2833 - mae: 2.7894 - val_loss: 19.7094 - val_mae: 2.9217\n",
            "Epoch 70/4000\n",
            "13/13 [==============================] - 0s 9ms/step - loss: 12.3668 - mae: 2.5714 - val_loss: 19.2901 - val_mae: 2.9097\n",
            "Epoch 71/4000\n",
            "13/13 [==============================] - 0s 9ms/step - loss: 16.1741 - mae: 2.8729 - val_loss: 20.1216 - val_mae: 2.9662\n",
            "Epoch 72/4000\n",
            "13/13 [==============================] - 0s 8ms/step - loss: 13.9312 - mae: 2.6486 - val_loss: 18.9282 - val_mae: 2.9915\n",
            "Epoch 73/4000\n",
            "13/13 [==============================] - 0s 9ms/step - loss: 14.3052 - mae: 2.7655 - val_loss: 20.1193 - val_mae: 2.9410\n",
            "Epoch 74/4000\n",
            "13/13 [==============================] - 0s 9ms/step - loss: 13.3452 - mae: 2.7191 - val_loss: 19.7882 - val_mae: 2.9105\n",
            "Epoch 75/4000\n",
            "13/13 [==============================] - 0s 9ms/step - loss: 15.7449 - mae: 2.7934 - val_loss: 20.0873 - val_mae: 2.9450\n",
            "Epoch 76/4000\n",
            "13/13 [==============================] - 0s 9ms/step - loss: 14.1467 - mae: 2.7956 - val_loss: 18.8243 - val_mae: 2.9795\n",
            "Epoch 77/4000\n",
            "13/13 [==============================] - 0s 9ms/step - loss: 14.5668 - mae: 2.7332 - val_loss: 20.0535 - val_mae: 2.9070\n",
            "Epoch 78/4000\n",
            "13/13 [==============================] - 0s 9ms/step - loss: 14.8698 - mae: 2.7245 - val_loss: 19.8553 - val_mae: 2.9415\n",
            "Epoch 79/4000\n",
            "13/13 [==============================] - 0s 9ms/step - loss: 13.9035 - mae: 2.7333 - val_loss: 18.6045 - val_mae: 2.9951\n",
            "Epoch 80/4000\n",
            "13/13 [==============================] - 0s 9ms/step - loss: 14.1390 - mae: 2.8108 - val_loss: 20.1446 - val_mae: 2.8953\n",
            "Epoch 81/4000\n",
            "13/13 [==============================] - 0s 9ms/step - loss: 12.7933 - mae: 2.6113 - val_loss: 18.9996 - val_mae: 2.9127\n",
            "Epoch 82/4000\n",
            "13/13 [==============================] - 0s 9ms/step - loss: 13.8510 - mae: 2.6444 - val_loss: 19.6033 - val_mae: 2.9110\n",
            "Epoch 83/4000\n",
            "13/13 [==============================] - 0s 9ms/step - loss: 12.8331 - mae: 2.6017 - val_loss: 19.5313 - val_mae: 2.9174\n",
            "Epoch 84/4000\n",
            "13/13 [==============================] - 0s 9ms/step - loss: 12.7936 - mae: 2.6687 - val_loss: 18.8160 - val_mae: 2.9678\n",
            "Epoch 85/4000\n",
            "13/13 [==============================] - 0s 8ms/step - loss: 14.5301 - mae: 2.7491 - val_loss: 19.0672 - val_mae: 2.9208\n",
            "Epoch 86/4000\n",
            "13/13 [==============================] - 0s 8ms/step - loss: 13.7468 - mae: 2.6486 - val_loss: 20.0472 - val_mae: 2.9149\n",
            "Epoch 87/4000\n",
            "13/13 [==============================] - 0s 9ms/step - loss: 15.5233 - mae: 2.7568 - val_loss: 19.9708 - val_mae: 2.9184\n",
            "Epoch 88/4000\n",
            "13/13 [==============================] - 0s 9ms/step - loss: 13.5931 - mae: 2.6596 - val_loss: 18.8797 - val_mae: 2.9571\n",
            "Epoch 89/4000\n",
            "13/13 [==============================] - 0s 8ms/step - loss: 14.3671 - mae: 2.7209 - val_loss: 18.7257 - val_mae: 3.0683\n",
            "Epoch 90/4000\n",
            "13/13 [==============================] - 0s 9ms/step - loss: 14.8456 - mae: 2.6507 - val_loss: 20.6689 - val_mae: 2.9259\n",
            "Epoch 91/4000\n",
            "13/13 [==============================] - 0s 9ms/step - loss: 13.3701 - mae: 2.6280 - val_loss: 18.9155 - val_mae: 2.9549\n",
            "Epoch 92/4000\n",
            "13/13 [==============================] - 0s 8ms/step - loss: 13.1256 - mae: 2.6257 - val_loss: 21.3105 - val_mae: 2.9386\n",
            "Epoch 93/4000\n",
            "13/13 [==============================] - 0s 8ms/step - loss: 13.9145 - mae: 2.7227 - val_loss: 20.5028 - val_mae: 2.9201\n",
            "Epoch 94/4000\n",
            "13/13 [==============================] - 0s 8ms/step - loss: 13.6944 - mae: 2.6808 - val_loss: 18.7242 - val_mae: 2.9384\n",
            "Epoch 95/4000\n",
            "13/13 [==============================] - 0s 9ms/step - loss: 13.4430 - mae: 2.6381 - val_loss: 20.2859 - val_mae: 2.9184\n",
            "Epoch 96/4000\n",
            "13/13 [==============================] - 0s 9ms/step - loss: 12.1927 - mae: 2.5871 - val_loss: 19.3371 - val_mae: 2.9140\n",
            "Epoch 97/4000\n",
            "13/13 [==============================] - 0s 9ms/step - loss: 14.1655 - mae: 2.6277 - val_loss: 18.0047 - val_mae: 2.9396\n",
            "Epoch 98/4000\n",
            "13/13 [==============================] - 0s 8ms/step - loss: 13.6209 - mae: 2.7602 - val_loss: 18.8216 - val_mae: 2.8861\n",
            "Epoch 99/4000\n",
            "13/13 [==============================] - 0s 9ms/step - loss: 12.9409 - mae: 2.7246 - val_loss: 18.8022 - val_mae: 2.9200\n",
            "Epoch 100/4000\n",
            "13/13 [==============================] - 0s 9ms/step - loss: 14.0914 - mae: 2.7589 - val_loss: 18.0933 - val_mae: 2.9046\n",
            "Epoch 101/4000\n",
            "13/13 [==============================] - 0s 8ms/step - loss: 13.9682 - mae: 2.6791 - val_loss: 17.9037 - val_mae: 2.9954\n",
            "Epoch 102/4000\n",
            "13/13 [==============================] - 0s 9ms/step - loss: 14.9266 - mae: 2.7867 - val_loss: 17.9270 - val_mae: 2.8856\n",
            "Epoch 103/4000\n",
            "13/13 [==============================] - 0s 9ms/step - loss: 13.4465 - mae: 2.7012 - val_loss: 18.4889 - val_mae: 2.9170\n",
            "Epoch 104/4000\n",
            "13/13 [==============================] - 0s 8ms/step - loss: 13.1327 - mae: 2.7265 - val_loss: 19.2806 - val_mae: 2.9681\n",
            "Epoch 105/4000\n",
            "13/13 [==============================] - 0s 8ms/step - loss: 14.9095 - mae: 2.7768 - val_loss: 19.6013 - val_mae: 2.9281\n",
            "Epoch 106/4000\n",
            "13/13 [==============================] - 0s 9ms/step - loss: 13.2660 - mae: 2.6831 - val_loss: 18.9181 - val_mae: 2.9325\n",
            "Epoch 107/4000\n",
            "13/13 [==============================] - 0s 8ms/step - loss: 12.5496 - mae: 2.6128 - val_loss: 19.0203 - val_mae: 2.9370\n",
            "Epoch 108/4000\n",
            "13/13 [==============================] - 0s 9ms/step - loss: 15.0653 - mae: 2.7602 - val_loss: 17.9506 - val_mae: 3.0018\n",
            "Epoch 109/4000\n",
            "13/13 [==============================] - 0s 9ms/step - loss: 13.8665 - mae: 2.7269 - val_loss: 19.5166 - val_mae: 2.8942\n",
            "Epoch 110/4000\n",
            "13/13 [==============================] - 0s 8ms/step - loss: 13.4358 - mae: 2.6870 - val_loss: 19.5792 - val_mae: 2.9569\n",
            "Epoch 111/4000\n",
            "13/13 [==============================] - 0s 8ms/step - loss: 13.9816 - mae: 2.6071 - val_loss: 19.3450 - val_mae: 2.9528\n",
            "Epoch 112/4000\n",
            "13/13 [==============================] - 0s 10ms/step - loss: 13.2740 - mae: 2.6189 - val_loss: 20.1503 - val_mae: 2.9711\n",
            "Epoch 113/4000\n",
            "13/13 [==============================] - 0s 13ms/step - loss: 13.6113 - mae: 2.6113 - val_loss: 18.9011 - val_mae: 2.9444\n",
            "Epoch 114/4000\n",
            "13/13 [==============================] - 0s 10ms/step - loss: 13.2342 - mae: 2.6490 - val_loss: 18.3256 - val_mae: 2.8852\n",
            "Epoch 115/4000\n",
            "13/13 [==============================] - 0s 9ms/step - loss: 13.7821 - mae: 2.7038 - val_loss: 17.5210 - val_mae: 2.9881\n",
            "Epoch 116/4000\n",
            "13/13 [==============================] - 0s 9ms/step - loss: 13.4403 - mae: 2.6181 - val_loss: 18.2275 - val_mae: 2.9213\n",
            "Epoch 117/4000\n",
            "13/13 [==============================] - 0s 9ms/step - loss: 12.0019 - mae: 2.5366 - val_loss: 18.0856 - val_mae: 2.8995\n",
            "Epoch 118/4000\n",
            "13/13 [==============================] - 0s 9ms/step - loss: 12.6242 - mae: 2.5599 - val_loss: 19.6676 - val_mae: 2.9139\n",
            "Epoch 119/4000\n",
            "13/13 [==============================] - 0s 9ms/step - loss: 11.7355 - mae: 2.5529 - val_loss: 20.7992 - val_mae: 2.9165\n",
            "Epoch 120/4000\n",
            "13/13 [==============================] - 0s 8ms/step - loss: 14.3266 - mae: 2.7636 - val_loss: 18.1867 - val_mae: 2.9974\n",
            "Epoch 121/4000\n",
            "13/13 [==============================] - 0s 8ms/step - loss: 14.6590 - mae: 2.7576 - val_loss: 18.6546 - val_mae: 2.9358\n",
            "Epoch 122/4000\n",
            "13/13 [==============================] - 0s 8ms/step - loss: 13.6446 - mae: 2.6125 - val_loss: 18.8334 - val_mae: 2.9439\n",
            "Epoch 123/4000\n",
            "13/13 [==============================] - 0s 8ms/step - loss: 12.9224 - mae: 2.7130 - val_loss: 18.6627 - val_mae: 2.8736\n",
            "Epoch 124/4000\n",
            "13/13 [==============================] - 0s 9ms/step - loss: 12.1646 - mae: 2.6260 - val_loss: 18.8712 - val_mae: 2.8974\n",
            "Epoch 125/4000\n",
            "13/13 [==============================] - 0s 8ms/step - loss: 13.5510 - mae: 2.6576 - val_loss: 18.0513 - val_mae: 2.9656\n",
            "Epoch 126/4000\n",
            "13/13 [==============================] - 0s 8ms/step - loss: 12.7503 - mae: 2.7098 - val_loss: 19.2941 - val_mae: 2.8816\n",
            "Epoch 127/4000\n",
            "13/13 [==============================] - 0s 8ms/step - loss: 12.1290 - mae: 2.5741 - val_loss: 19.4158 - val_mae: 2.9439\n",
            "Epoch 128/4000\n",
            "13/13 [==============================] - 0s 9ms/step - loss: 13.6594 - mae: 2.7546 - val_loss: 18.9385 - val_mae: 2.9480\n",
            "Epoch 129/4000\n",
            "13/13 [==============================] - 0s 8ms/step - loss: 12.9798 - mae: 2.5705 - val_loss: 18.7899 - val_mae: 2.9228\n",
            "Epoch 130/4000\n",
            "13/13 [==============================] - 0s 9ms/step - loss: 12.4432 - mae: 2.6305 - val_loss: 20.1761 - val_mae: 2.9224\n",
            "Epoch 131/4000\n",
            "13/13 [==============================] - 0s 9ms/step - loss: 12.1327 - mae: 2.6454 - val_loss: 18.8819 - val_mae: 2.9307\n",
            "Epoch 132/4000\n",
            "13/13 [==============================] - 0s 8ms/step - loss: 13.6012 - mae: 2.7071 - val_loss: 17.8259 - val_mae: 2.9960\n",
            "Epoch 133/4000\n",
            "13/13 [==============================] - 0s 9ms/step - loss: 12.9644 - mae: 2.7084 - val_loss: 18.4599 - val_mae: 2.9628\n",
            "Epoch 134/4000\n",
            "13/13 [==============================] - 0s 9ms/step - loss: 13.6375 - mae: 2.6729 - val_loss: 18.2893 - val_mae: 2.9254\n",
            "Epoch 135/4000\n",
            "13/13 [==============================] - 0s 8ms/step - loss: 12.1709 - mae: 2.5152 - val_loss: 18.3130 - val_mae: 2.8880\n",
            "Epoch 136/4000\n",
            "13/13 [==============================] - 0s 8ms/step - loss: 12.3815 - mae: 2.6000 - val_loss: 17.8202 - val_mae: 2.9847\n",
            "Epoch 137/4000\n",
            "13/13 [==============================] - 0s 8ms/step - loss: 12.5047 - mae: 2.6625 - val_loss: 18.0066 - val_mae: 2.9916\n",
            "Epoch 138/4000\n",
            "13/13 [==============================] - 0s 8ms/step - loss: 12.5017 - mae: 2.6398 - val_loss: 19.1365 - val_mae: 2.8775\n",
            "Epoch 139/4000\n",
            "13/13 [==============================] - 0s 8ms/step - loss: 11.9191 - mae: 2.5151 - val_loss: 20.6316 - val_mae: 2.9317\n",
            "Epoch 140/4000\n",
            "13/13 [==============================] - 0s 8ms/step - loss: 11.3016 - mae: 2.5646 - val_loss: 19.2069 - val_mae: 2.9141\n",
            "Epoch 141/4000\n",
            "13/13 [==============================] - 0s 11ms/step - loss: 12.3732 - mae: 2.5665 - val_loss: 17.8456 - val_mae: 3.0327\n",
            "Epoch 142/4000\n",
            "13/13 [==============================] - 0s 9ms/step - loss: 11.9490 - mae: 2.4873 - val_loss: 19.5745 - val_mae: 2.9016\n",
            "Epoch 143/4000\n",
            "13/13 [==============================] - 0s 9ms/step - loss: 10.7391 - mae: 2.4387 - val_loss: 18.2637 - val_mae: 2.9190\n",
            "Epoch 144/4000\n",
            "13/13 [==============================] - 0s 8ms/step - loss: 12.8624 - mae: 2.6529 - val_loss: 17.8704 - val_mae: 2.9071\n",
            "Epoch 145/4000\n",
            "13/13 [==============================] - 0s 9ms/step - loss: 11.6731 - mae: 2.5062 - val_loss: 17.8890 - val_mae: 2.9463\n",
            "Epoch 146/4000\n",
            "13/13 [==============================] - 0s 8ms/step - loss: 11.8537 - mae: 2.5911 - val_loss: 18.8543 - val_mae: 2.9268\n",
            "Epoch 147/4000\n",
            "13/13 [==============================] - 0s 8ms/step - loss: 12.9831 - mae: 2.7022 - val_loss: 18.0204 - val_mae: 2.9648\n",
            "Epoch 148/4000\n",
            "13/13 [==============================] - 0s 9ms/step - loss: 12.7348 - mae: 2.6159 - val_loss: 20.5972 - val_mae: 2.9510\n",
            "Epoch 149/4000\n",
            "13/13 [==============================] - 0s 8ms/step - loss: 12.7901 - mae: 2.6542 - val_loss: 17.7590 - val_mae: 2.9175\n",
            "Epoch 150/4000\n",
            "13/13 [==============================] - 0s 10ms/step - loss: 10.0193 - mae: 2.4020 - val_loss: 17.9152 - val_mae: 2.9565\n",
            "Epoch 151/4000\n",
            "13/13 [==============================] - 0s 8ms/step - loss: 12.5875 - mae: 2.6676 - val_loss: 18.6662 - val_mae: 2.9183\n",
            "Epoch 152/4000\n",
            "13/13 [==============================] - 0s 10ms/step - loss: 12.2438 - mae: 2.6279 - val_loss: 18.5672 - val_mae: 2.9280\n",
            "Epoch 153/4000\n",
            "13/13 [==============================] - 0s 8ms/step - loss: 10.6736 - mae: 2.3329 - val_loss: 18.5842 - val_mae: 2.9028\n",
            "Epoch 154/4000\n",
            "13/13 [==============================] - 0s 8ms/step - loss: 13.6900 - mae: 2.7480 - val_loss: 18.0660 - val_mae: 2.8753\n",
            "Epoch 155/4000\n",
            "13/13 [==============================] - 0s 8ms/step - loss: 11.8294 - mae: 2.6191 - val_loss: 19.2082 - val_mae: 2.8801\n",
            "Epoch 156/4000\n",
            "13/13 [==============================] - 0s 8ms/step - loss: 12.7364 - mae: 2.6756 - val_loss: 17.6951 - val_mae: 2.9847\n",
            "Epoch 157/4000\n",
            "13/13 [==============================] - 0s 8ms/step - loss: 12.5762 - mae: 2.6841 - val_loss: 18.0618 - val_mae: 2.8840\n",
            "Epoch 158/4000\n",
            "13/13 [==============================] - 0s 8ms/step - loss: 12.4528 - mae: 2.5602 - val_loss: 17.5632 - val_mae: 3.0069\n",
            "Epoch 159/4000\n",
            "13/13 [==============================] - 0s 8ms/step - loss: 10.7957 - mae: 2.4748 - val_loss: 19.1384 - val_mae: 2.8933\n",
            "Epoch 160/4000\n",
            "13/13 [==============================] - 0s 9ms/step - loss: 13.5067 - mae: 2.6440 - val_loss: 18.3664 - val_mae: 2.8616\n",
            "Epoch 161/4000\n",
            "13/13 [==============================] - 0s 10ms/step - loss: 12.6963 - mae: 2.6005 - val_loss: 18.8531 - val_mae: 2.9242\n",
            "Epoch 162/4000\n",
            "13/13 [==============================] - 0s 9ms/step - loss: 14.1365 - mae: 2.6866 - val_loss: 19.4582 - val_mae: 2.8964\n",
            "Epoch 163/4000\n",
            "13/13 [==============================] - 0s 8ms/step - loss: 12.6411 - mae: 2.6134 - val_loss: 18.0444 - val_mae: 2.9144\n",
            "Epoch 164/4000\n",
            "13/13 [==============================] - 0s 8ms/step - loss: 9.9583 - mae: 2.4054 - val_loss: 18.9743 - val_mae: 2.8687\n",
            "Epoch 165/4000\n",
            "13/13 [==============================] - 0s 8ms/step - loss: 9.6719 - mae: 2.3531 - val_loss: 18.1738 - val_mae: 2.8755\n",
            "Epoch 00165: early stopping\n"
          ],
          "name": "stdout"
        }
      ]
    },
    {
      "cell_type": "code",
      "metadata": {
        "id": "B2NjHXIlTORo",
        "colab": {
          "base_uri": "https://localhost:8080/",
          "height": 35
        },
        "outputId": "82e78762-ccf6-4b8b-ade9-5d0906959806"
      },
      "source": [
        "# how long did it run for? \n",
        "# let's try to extract from history.history\n",
        "x = np.array(history.epoch)\n",
        "x = max(x)\n",
        "print(\"We should re-run for this many epochs: \", x)"
      ],
      "execution_count": null,
      "outputs": [
        {
          "output_type": "stream",
          "text": [
            "We should re-run for this many epochs:  164\n"
          ],
          "name": "stdout"
        }
      ]
    },
    {
      "cell_type": "code",
      "metadata": {
        "id": "oQOol33iUJUa"
      },
      "source": [
        "# later, we should try to save the model (checkpointing)\n",
        "# and we could try loading it at a later time...\n",
        "# maybe save this for Week 2"
      ],
      "execution_count": null,
      "outputs": []
    },
    {
      "cell_type": "markdown",
      "metadata": {
        "id": "J3tRdnWn098P"
      },
      "source": [
        "You can grab all that plotting code from before if you want."
      ]
    },
    {
      "cell_type": "code",
      "metadata": {
        "id": "Sq_39G0h08q3",
        "colab": {
          "base_uri": "https://localhost:8080/",
          "height": 297
        },
        "outputId": "fa9757c5-4d72-4f94-960d-3c6ce3eb7641"
      },
      "source": [
        "# TO DO: make it a nice subplot for training and validation\n",
        "# results, with a nice axes and a main title,\n",
        "# then save the image to your Google Drive\n",
        "# a long with a .csv of actual vs. predicted results\n",
        "\n",
        "# nice link: https://matplotlib.org/gallery/subplots_axes_and_figures/figure_title.html\n",
        "\n",
        "# specify the dimensions \n",
        "fig, axes = plt.subplots(1,2) # 1 row, 2 columns\n",
        "\n",
        "# add a main title across top\n",
        "#fig.suptitle(\"My Results\", fontsize=20)\n",
        "\n",
        "# \tval_loss\tval_mean_absolute_error\tloss\tmean_absolute_error\n",
        "\n",
        "# this makes the individual subplots\n",
        "# Training Results\n",
        "axes[0].scatter(x=y_train, y=model.predict(X_train)) #first row, first entry (left top)\n",
        "axes[0].set_xlabel(\"Actual\", fontsize=10)\n",
        "axes[0].set_ylabel(\"Predicted\",  fontsize=10)\n",
        "axes[0].set_title(\"Training\")\n",
        "# add 45 deg line\n",
        "x = np.linspace(*axes[0].get_xlim())\n",
        "axes[0].plot(x, x, color='red')\n",
        "# Validation Results\n",
        "axes[1].scatter(x=y_test, y=model.predict(X_test)) # first row, second entry (right top)\n",
        "axes[1].set_xlabel(\"Actual\", fontsize=10)\n",
        "axes[1].set_ylabel(\"Predicted\",  fontsize=10)\n",
        "axes[1].set_title(\"Validation\")\n",
        "# add 45 deg line\n",
        "x = np.linspace(*axes[1].get_xlim())\n",
        "axes[1].plot(x, x, color='red')\n",
        "\n",
        "# tight layout\n",
        "fig.tight_layout()\n",
        "\n",
        "# by adding this line of code, we can save our plot to our Google Drive\n",
        "# link: https://chartio.com/resources/tutorials/how-to-save-a-plot-to-a-file-using-matplotlib/\n",
        "plt.savefig('/content/drive/My Drive/Spring 2020 Materials/Week 1/Module1/Script and Data/My First NN Results/Results Plot_es.png')\n",
        "\n",
        "# show the plot\n",
        "plt.show()"
      ],
      "execution_count": null,
      "outputs": [
        {
          "output_type": "display_data",
          "data": {
            "image/png": "[encoded data removed]",
            "text/plain": [
              "<Figure size 432x288 with 2 Axes>"
            ]
          },
          "metadata": {
            "tags": []
          }
        }
      ]
    },
    {
      "cell_type": "markdown",
      "metadata": {
        "id": "A6xYuSKvxxII"
      },
      "source": [
        "## Try a k-fold example"
      ]
    },
    {
      "cell_type": "code",
      "metadata": {
        "id": "UNk4fPmFseud",
        "colab": {
          "base_uri": "https://localhost:8080/",
          "height": 35
        },
        "outputId": "6faa526e-8ad3-43bb-a3eb-c3e006aaadbc"
      },
      "source": [
        "# in the book, you will see k-fold validation examples\n",
        "# we will get there later on, \n",
        "# along with standardizing our data\n",
        "\n",
        "# as a reference, you can look at Listing 4.2 in Chollet\n",
        "k=4\n",
        "num_validation_samples = len(df) // k\n",
        "num_validation_samples\n",
        "\n",
        "# I prefer not to code this way though...\n",
        "# here's how I would do it..."
      ],
      "execution_count": null,
      "outputs": [
        {
          "output_type": "execute_result",
          "data": {
            "text/plain": [
              "126"
            ]
          },
          "metadata": {
            "tags": []
          },
          "execution_count": 81
        }
      ]
    },
    {
      "cell_type": "code",
      "metadata": {
        "id": "nVLEdkCE2xZJ",
        "colab": {
          "base_uri": "https://localhost:8080/",
          "height": 202
        },
        "outputId": "01019246-7b62-4c0d-f2ee-1da3479654a5"
      },
      "source": [
        "# peak at the data\n",
        "df.head()"
      ],
      "execution_count": null,
      "outputs": [
        {
          "output_type": "execute_result",
          "data": {
            "text/html": [
              "<div>\n",
              "<style scoped>\n",
              "    .dataframe tbody tr th:only-of-type {\n",
              "        vertical-align: middle;\n",
              "    }\n",
              "\n",
              "    .dataframe tbody tr th {\n",
              "        vertical-align: top;\n",
              "    }\n",
              "\n",
              "    .dataframe thead th {\n",
              "        text-align: right;\n",
              "    }\n",
              "</style>\n",
              "<table border=\"1\" class=\"dataframe\">\n",
              "  <thead>\n",
              "    <tr style=\"text-align: right;\">\n",
              "      <th></th>\n",
              "      <th>crim</th>\n",
              "      <th>zn</th>\n",
              "      <th>indus</th>\n",
              "      <th>chas</th>\n",
              "      <th>nox</th>\n",
              "      <th>rm</th>\n",
              "      <th>age</th>\n",
              "      <th>dis</th>\n",
              "      <th>rad</th>\n",
              "      <th>tax</th>\n",
              "      <th>ptratio</th>\n",
              "      <th>b</th>\n",
              "      <th>lstat</th>\n",
              "      <th>medv</th>\n",
              "    </tr>\n",
              "  </thead>\n",
              "  <tbody>\n",
              "    <tr>\n",
              "      <th>0</th>\n",
              "      <td>0.00632</td>\n",
              "      <td>18.0</td>\n",
              "      <td>2.31</td>\n",
              "      <td>0</td>\n",
              "      <td>0.538</td>\n",
              "      <td>6.575</td>\n",
              "      <td>65.2</td>\n",
              "      <td>4.0900</td>\n",
              "      <td>1</td>\n",
              "      <td>296</td>\n",
              "      <td>15.3</td>\n",
              "      <td>396.90</td>\n",
              "      <td>4.98</td>\n",
              "      <td>24.0</td>\n",
              "    </tr>\n",
              "    <tr>\n",
              "      <th>1</th>\n",
              "      <td>0.02731</td>\n",
              "      <td>0.0</td>\n",
              "      <td>7.07</td>\n",
              "      <td>0</td>\n",
              "      <td>0.469</td>\n",
              "      <td>6.421</td>\n",
              "      <td>78.9</td>\n",
              "      <td>4.9671</td>\n",
              "      <td>2</td>\n",
              "      <td>242</td>\n",
              "      <td>17.8</td>\n",
              "      <td>396.90</td>\n",
              "      <td>9.14</td>\n",
              "      <td>21.6</td>\n",
              "    </tr>\n",
              "    <tr>\n",
              "      <th>2</th>\n",
              "      <td>0.02729</td>\n",
              "      <td>0.0</td>\n",
              "      <td>7.07</td>\n",
              "      <td>0</td>\n",
              "      <td>0.469</td>\n",
              "      <td>7.185</td>\n",
              "      <td>61.1</td>\n",
              "      <td>4.9671</td>\n",
              "      <td>2</td>\n",
              "      <td>242</td>\n",
              "      <td>17.8</td>\n",
              "      <td>392.83</td>\n",
              "      <td>4.03</td>\n",
              "      <td>34.7</td>\n",
              "    </tr>\n",
              "    <tr>\n",
              "      <th>3</th>\n",
              "      <td>0.03237</td>\n",
              "      <td>0.0</td>\n",
              "      <td>2.18</td>\n",
              "      <td>0</td>\n",
              "      <td>0.458</td>\n",
              "      <td>6.998</td>\n",
              "      <td>45.8</td>\n",
              "      <td>6.0622</td>\n",
              "      <td>3</td>\n",
              "      <td>222</td>\n",
              "      <td>18.7</td>\n",
              "      <td>394.63</td>\n",
              "      <td>2.94</td>\n",
              "      <td>33.4</td>\n",
              "    </tr>\n",
              "    <tr>\n",
              "      <th>4</th>\n",
              "      <td>0.06905</td>\n",
              "      <td>0.0</td>\n",
              "      <td>2.18</td>\n",
              "      <td>0</td>\n",
              "      <td>0.458</td>\n",
              "      <td>7.147</td>\n",
              "      <td>54.2</td>\n",
              "      <td>6.0622</td>\n",
              "      <td>3</td>\n",
              "      <td>222</td>\n",
              "      <td>18.7</td>\n",
              "      <td>396.90</td>\n",
              "      <td>5.33</td>\n",
              "      <td>36.2</td>\n",
              "    </tr>\n",
              "  </tbody>\n",
              "</table>\n",
              "</div>"
            ],
            "text/plain": [
              "      crim    zn  indus  chas    nox  ...  tax  ptratio       b  lstat  medv\n",
              "0  0.00632  18.0   2.31     0  0.538  ...  296     15.3  396.90   4.98  24.0\n",
              "1  0.02731   0.0   7.07     0  0.469  ...  242     17.8  396.90   9.14  21.6\n",
              "2  0.02729   0.0   7.07     0  0.469  ...  242     17.8  392.83   4.03  34.7\n",
              "3  0.03237   0.0   2.18     0  0.458  ...  222     18.7  394.63   2.94  33.4\n",
              "4  0.06905   0.0   2.18     0  0.458  ...  222     18.7  396.90   5.33  36.2\n",
              "\n",
              "[5 rows x 14 columns]"
            ]
          },
          "metadata": {
            "tags": []
          },
          "execution_count": 82
        }
      ]
    },
    {
      "cell_type": "code",
      "metadata": {
        "id": "cSMMqYfL16xe",
        "colab": {
          "base_uri": "https://localhost:8080/",
          "height": 202
        },
        "outputId": "709a1d50-d14e-4b02-d555-f06e1575a303"
      },
      "source": [
        "# shuffle the df\n",
        "df = df.sample(frac=1).reset_index(drop=True)\n",
        "df.head()"
      ],
      "execution_count": null,
      "outputs": [
        {
          "output_type": "execute_result",
          "data": {
            "text/html": [
              "<div>\n",
              "<style scoped>\n",
              "    .dataframe tbody tr th:only-of-type {\n",
              "        vertical-align: middle;\n",
              "    }\n",
              "\n",
              "    .dataframe tbody tr th {\n",
              "        vertical-align: top;\n",
              "    }\n",
              "\n",
              "    .dataframe thead th {\n",
              "        text-align: right;\n",
              "    }\n",
              "</style>\n",
              "<table border=\"1\" class=\"dataframe\">\n",
              "  <thead>\n",
              "    <tr style=\"text-align: right;\">\n",
              "      <th></th>\n",
              "      <th>crim</th>\n",
              "      <th>zn</th>\n",
              "      <th>indus</th>\n",
              "      <th>chas</th>\n",
              "      <th>nox</th>\n",
              "      <th>rm</th>\n",
              "      <th>age</th>\n",
              "      <th>dis</th>\n",
              "      <th>rad</th>\n",
              "      <th>tax</th>\n",
              "      <th>ptratio</th>\n",
              "      <th>b</th>\n",
              "      <th>lstat</th>\n",
              "      <th>medv</th>\n",
              "    </tr>\n",
              "  </thead>\n",
              "  <tbody>\n",
              "    <tr>\n",
              "      <th>0</th>\n",
              "      <td>3.84970</td>\n",
              "      <td>0.0</td>\n",
              "      <td>18.10</td>\n",
              "      <td>1</td>\n",
              "      <td>0.770</td>\n",
              "      <td>6.395</td>\n",
              "      <td>91.0</td>\n",
              "      <td>2.5052</td>\n",
              "      <td>24</td>\n",
              "      <td>666</td>\n",
              "      <td>20.2</td>\n",
              "      <td>391.34</td>\n",
              "      <td>13.27</td>\n",
              "      <td>21.7</td>\n",
              "    </tr>\n",
              "    <tr>\n",
              "      <th>1</th>\n",
              "      <td>0.03041</td>\n",
              "      <td>0.0</td>\n",
              "      <td>5.19</td>\n",
              "      <td>0</td>\n",
              "      <td>0.515</td>\n",
              "      <td>5.895</td>\n",
              "      <td>59.6</td>\n",
              "      <td>5.6150</td>\n",
              "      <td>5</td>\n",
              "      <td>224</td>\n",
              "      <td>20.2</td>\n",
              "      <td>394.81</td>\n",
              "      <td>10.56</td>\n",
              "      <td>18.5</td>\n",
              "    </tr>\n",
              "    <tr>\n",
              "      <th>2</th>\n",
              "      <td>0.24103</td>\n",
              "      <td>0.0</td>\n",
              "      <td>7.38</td>\n",
              "      <td>0</td>\n",
              "      <td>0.493</td>\n",
              "      <td>6.083</td>\n",
              "      <td>43.7</td>\n",
              "      <td>5.4159</td>\n",
              "      <td>5</td>\n",
              "      <td>287</td>\n",
              "      <td>19.6</td>\n",
              "      <td>396.90</td>\n",
              "      <td>12.79</td>\n",
              "      <td>22.2</td>\n",
              "    </tr>\n",
              "    <tr>\n",
              "      <th>3</th>\n",
              "      <td>0.62976</td>\n",
              "      <td>0.0</td>\n",
              "      <td>8.14</td>\n",
              "      <td>0</td>\n",
              "      <td>0.538</td>\n",
              "      <td>5.949</td>\n",
              "      <td>61.8</td>\n",
              "      <td>4.7075</td>\n",
              "      <td>4</td>\n",
              "      <td>307</td>\n",
              "      <td>21.0</td>\n",
              "      <td>396.90</td>\n",
              "      <td>8.26</td>\n",
              "      <td>20.4</td>\n",
              "    </tr>\n",
              "    <tr>\n",
              "      <th>4</th>\n",
              "      <td>73.53410</td>\n",
              "      <td>0.0</td>\n",
              "      <td>18.10</td>\n",
              "      <td>0</td>\n",
              "      <td>0.679</td>\n",
              "      <td>5.957</td>\n",
              "      <td>100.0</td>\n",
              "      <td>1.8026</td>\n",
              "      <td>24</td>\n",
              "      <td>666</td>\n",
              "      <td>20.2</td>\n",
              "      <td>16.45</td>\n",
              "      <td>20.62</td>\n",
              "      <td>8.8</td>\n",
              "    </tr>\n",
              "  </tbody>\n",
              "</table>\n",
              "</div>"
            ],
            "text/plain": [
              "       crim   zn  indus  chas    nox  ...  tax  ptratio       b  lstat  medv\n",
              "0   3.84970  0.0  18.10     1  0.770  ...  666     20.2  391.34  13.27  21.7\n",
              "1   0.03041  0.0   5.19     0  0.515  ...  224     20.2  394.81  10.56  18.5\n",
              "2   0.24103  0.0   7.38     0  0.493  ...  287     19.6  396.90  12.79  22.2\n",
              "3   0.62976  0.0   8.14     0  0.538  ...  307     21.0  396.90   8.26  20.4\n",
              "4  73.53410  0.0  18.10     0  0.679  ...  666     20.2   16.45  20.62   8.8\n",
              "\n",
              "[5 rows x 14 columns]"
            ]
          },
          "metadata": {
            "tags": []
          },
          "execution_count": 83
        }
      ]
    },
    {
      "cell_type": "code",
      "metadata": {
        "id": "kr5nuSog5H0b",
        "colab": {
          "base_uri": "https://localhost:8080/",
          "height": 87
        },
        "outputId": "2866b3a7-7517-4496-fad5-6e2dfc790eaf"
      },
      "source": [
        "print(df.columns)\n",
        "print(df.shape)"
      ],
      "execution_count": null,
      "outputs": [
        {
          "output_type": "stream",
          "text": [
            "Index(['crim', 'zn', 'indus', 'chas', 'nox', 'rm', 'age', 'dis', 'rad', 'tax',\n",
            "       'ptratio', 'b', 'lstat', 'medv'],\n",
            "      dtype='object')\n",
            "(506, 14)\n"
          ],
          "name": "stdout"
        }
      ]
    },
    {
      "cell_type": "markdown",
      "metadata": {
        "id": "RSyJkDMEdEqZ"
      },
      "source": [
        "Tthere are a bunch of loss functions that can be optimized off of, \n",
        "and a bunch of error metrics can be checked out.\n",
        "\n",
        "https://keras.io/metrics/\n",
        "https://keras.io/losses/"
      ]
    },
    {
      "cell_type": "code",
      "metadata": {
        "id": "xVuO2K4L4n_S",
        "colab": {
          "base_uri": "https://localhost:8080/",
          "height": 503
        },
        "outputId": "213feda0-9086-415b-8577-cdc23c286f64"
      },
      "source": [
        "# kfold with code\n",
        "# link: https://machinelearningmastery.com/evaluate-performance-deep-learning-models-keras/\n",
        "# note that the example in the link uses input_dim instead of input_shape\n",
        "from tensorflow.keras import layers, Sequential\n",
        "from sklearn.model_selection import KFold\n",
        "import numpy\n",
        "# fix random seed for reproducibility\n",
        "seed = 7\n",
        "numpy.random.seed(seed)\n",
        "# load dataset as numpy array\n",
        "dataset = df.values\n",
        "# split into input (X) and output (Y) variables\n",
        "X = dataset[:,0:13] # up to incluing column 13\n",
        "Y = dataset[:,13] # column 14 (but numbered 13, cause of Python)\n",
        "\n",
        "# here's some code from before\n",
        "from tensorflow.keras.callbacks import EarlyStopping\n",
        "es = EarlyStopping(monitor='loss', \n",
        "                   mode='min', \n",
        "                   # try a patience of 2, 5, 10, 50, 100...\n",
        "                   patience=10, \n",
        "                   verbose=1)\n",
        "# define 10-fold cross-validation\n",
        "kfold = KFold(n_splits=10, shuffle=True, random_state=seed)\n",
        "# let's define a blank space to store our error metrics\n",
        "cvscores = []\n",
        "# and also a blank place to store the epochs\n",
        "epochDF = []\n",
        "# counter \n",
        "counter = 0\n",
        "\n",
        "# start the for loop\n",
        "for train, test in kfold.split(X, Y):\n",
        "  # print counter\n",
        "  counter = counter + 1\n",
        "  print(\"Fold Index = \",counter)\n",
        "  # create the model\n",
        "  model = Sequential()\n",
        "  model.add(layers.Dense(64, input_shape=(13,)))\n",
        "  model.add(layers.Dense(8,activation='relu'))\n",
        "  model.add(layers.Dense(1))\n",
        "  # compile the model\n",
        "  model.compile(optimizer='rmsprop', \n",
        "                loss='mae', # try mse or mae\n",
        "                metrics=['mae'])\n",
        "  # fit the model\n",
        "  history = model.fit(X[train], \n",
        "                        Y[train],\n",
        "                        epochs=100,\n",
        "                        batch_size=10,\n",
        "                        verbose=0,\n",
        "                        callbacks=[es])\n",
        "  # evaluate the model\n",
        "  scores = model.evaluate(X[test], Y[test], verbose=0)\n",
        "  # number of epochs\n",
        "  x = max(np.array(history.epoch))\n",
        "  # save the scores\n",
        "  cvscores.append(scores)\n",
        "  # save the epochs\n",
        "  epochDF.append(x)\n",
        "  print(scores, x)\n"
      ],
      "execution_count": null,
      "outputs": [
        {
          "output_type": "stream",
          "text": [
            "Fold Index =  1\n",
            "[4.745976448059082, 4.71177864074707] 99\n",
            "Fold Index =  2\n",
            "Epoch 00034: early stopping\n",
            "[9.620475769042969, 9.457828521728516] 33\n",
            "Fold Index =  3\n",
            "Epoch 00100: early stopping\n",
            "[6.90367317199707, 6.656145095825195] 99\n",
            "Fold Index =  4\n",
            "Epoch 00077: early stopping\n",
            "[4.013745307922363, 3.8723390102386475] 76\n",
            "Fold Index =  5\n",
            "Epoch 00078: early stopping\n",
            "[4.290441513061523, 4.208205223083496] 77\n",
            "Fold Index =  6\n",
            "Epoch 00073: early stopping\n",
            "[4.045874118804932, 4.059146881103516] 72\n",
            "Fold Index =  7\n",
            "Epoch 00056: early stopping\n",
            "[3.9855237007141113, 4.1753764152526855] 55\n",
            "Fold Index =  8\n",
            "[5.990116119384766, 6.073483467102051] 99\n",
            "Fold Index =  9\n",
            "Epoch 00079: early stopping\n",
            "[5.48539924621582, 6.020908832550049] 78\n",
            "Fold Index =  10\n",
            "Epoch 00037: early stopping\n",
            "[14.241410255432129, 13.885615348815918] 36\n"
          ],
          "name": "stdout"
        }
      ]
    },
    {
      "cell_type": "code",
      "metadata": {
        "id": "9QGQj8OIhLIq",
        "colab": {
          "base_uri": "https://localhost:8080/",
          "height": 676
        },
        "outputId": "1bd3804f-87d3-4d5e-9cc6-372acd9a9d1b"
      },
      "source": [
        "# this shows an index of all records in train\n",
        "print(train.shape)\n",
        "print(X[train].shape)\n",
        "train"
      ],
      "execution_count": null,
      "outputs": [
        {
          "output_type": "stream",
          "text": [
            "(456,)\n",
            "(456, 13)\n"
          ],
          "name": "stdout"
        },
        {
          "output_type": "execute_result",
          "data": {
            "text/plain": [
              "array([  1,   2,   3,   4,   5,   7,   8,   9,  10,  11,  12,  13,  14,\n",
              "        15,  16,  17,  18,  19,  20,  21,  22,  24,  26,  27,  28,  29,\n",
              "        30,  31,  32,  33,  34,  35,  36,  37,  39,  40,  41,  43,  45,\n",
              "        46,  47,  48,  49,  50,  51,  52,  53,  54,  55,  56,  57,  58,\n",
              "        59,  60,  61,  62,  63,  64,  65,  66,  69,  70,  71,  73,  74,\n",
              "        76,  77,  78,  79,  80,  81,  82,  83,  84,  85,  86,  87,  88,\n",
              "        89,  90,  91,  92,  93,  94,  95,  96,  97,  98,  99, 100, 101,\n",
              "       102, 104, 105, 106, 107, 108, 109, 110, 111, 113, 114, 115, 116,\n",
              "       117, 118, 119, 120, 121, 122, 123, 124, 125, 126, 127, 128, 129,\n",
              "       130, 131, 132, 133, 134, 135, 136, 138, 139, 140, 141, 142, 143,\n",
              "       144, 145, 146, 147, 148, 149, 150, 151, 153, 154, 155, 156, 157,\n",
              "       158, 159, 160, 161, 162, 163, 164, 165, 166, 168, 169, 170, 171,\n",
              "       172, 173, 174, 176, 177, 178, 179, 180, 181, 182, 184, 186, 187,\n",
              "       188, 190, 192, 193, 194, 195, 197, 198, 199, 200, 202, 203, 204,\n",
              "       205, 206, 207, 208, 209, 210, 212, 213, 214, 215, 216, 217, 219,\n",
              "       220, 221, 222, 223, 224, 225, 226, 227, 228, 229, 230, 231, 232,\n",
              "       233, 234, 235, 236, 237, 238, 239, 240, 241, 242, 243, 244, 245,\n",
              "       246, 247, 248, 249, 252, 253, 254, 255, 256, 257, 258, 259, 261,\n",
              "       262, 263, 264, 265, 266, 267, 268, 269, 270, 271, 272, 273, 274,\n",
              "       276, 277, 278, 279, 280, 281, 282, 283, 284, 285, 286, 287, 288,\n",
              "       289, 291, 292, 293, 294, 295, 296, 297, 298, 299, 300, 301, 302,\n",
              "       303, 304, 305, 306, 307, 308, 309, 310, 313, 314, 315, 316, 317,\n",
              "       318, 319, 320, 321, 322, 323, 324, 326, 327, 328, 329, 330, 331,\n",
              "       332, 333, 334, 335, 336, 337, 338, 339, 340, 341, 342, 344, 346,\n",
              "       347, 349, 350, 351, 352, 353, 354, 355, 356, 357, 358, 359, 360,\n",
              "       361, 362, 363, 364, 365, 367, 368, 369, 370, 371, 372, 373, 374,\n",
              "       375, 376, 377, 378, 379, 380, 381, 382, 384, 385, 386, 387, 388,\n",
              "       389, 390, 393, 394, 395, 396, 397, 399, 400, 401, 402, 403, 404,\n",
              "       405, 406, 408, 409, 410, 411, 412, 413, 414, 415, 416, 417, 418,\n",
              "       419, 420, 421, 422, 423, 424, 425, 426, 427, 429, 430, 431, 433,\n",
              "       434, 435, 436, 438, 439, 440, 441, 442, 443, 445, 446, 447, 449,\n",
              "       450, 451, 452, 453, 454, 455, 456, 457, 458, 459, 460, 461, 462,\n",
              "       463, 464, 465, 466, 467, 468, 469, 471, 472, 473, 474, 475, 476,\n",
              "       477, 478, 479, 480, 481, 482, 483, 484, 485, 487, 488, 489, 490,\n",
              "       491, 492, 493, 494, 495, 496, 497, 498, 499, 500, 501, 503, 504,\n",
              "       505])"
            ]
          },
          "metadata": {
            "tags": []
          },
          "execution_count": 86
        }
      ]
    },
    {
      "cell_type": "code",
      "metadata": {
        "id": "ALDProurhaoW",
        "colab": {
          "base_uri": "https://localhost:8080/",
          "height": 121
        },
        "outputId": "4a935102-0fc5-48c5-fd38-bd7236bb44cd"
      },
      "source": [
        "# this shows an index of all records in test\n",
        "print(test.shape)\n",
        "print(X[test].shape)\n",
        "test"
      ],
      "execution_count": null,
      "outputs": [
        {
          "output_type": "stream",
          "text": [
            "(50,)\n",
            "(50, 13)\n"
          ],
          "name": "stdout"
        },
        {
          "output_type": "execute_result",
          "data": {
            "text/plain": [
              "array([  0,   6,  23,  25,  38,  42,  44,  67,  68,  72,  75, 103, 112,\n",
              "       137, 152, 167, 175, 183, 185, 189, 191, 196, 201, 211, 218, 250,\n",
              "       251, 260, 275, 290, 311, 312, 325, 343, 345, 348, 366, 383, 391,\n",
              "       392, 398, 407, 428, 432, 437, 444, 448, 470, 486, 502])"
            ]
          },
          "metadata": {
            "tags": []
          },
          "execution_count": 87
        }
      ]
    },
    {
      "cell_type": "code",
      "metadata": {
        "id": "_jTRa4FDSwpJ",
        "colab": {
          "base_uri": "https://localhost:8080/",
          "height": 355
        },
        "outputId": "4a646840-f51e-40e9-bd61-f31d42971c2a"
      },
      "source": [
        "# could also save the datasets as we went along if we wanted to\n",
        "# we could also put this in a pandas dataframe for analysis\n",
        "resultDF = pd.DataFrame(cvscores)\n",
        "# add the epochs it took\n",
        "resultDF['epochs'] = epochDF\n",
        "# change column names\n",
        "resultDF.columns = ['loss', 'mae', 'epochs']\n",
        "# show the results!\n",
        "resultDF # WHOA! one is real bad..."
      ],
      "execution_count": null,
      "outputs": [
        {
          "output_type": "execute_result",
          "data": {
            "text/html": [
              "<div>\n",
              "<style scoped>\n",
              "    .dataframe tbody tr th:only-of-type {\n",
              "        vertical-align: middle;\n",
              "    }\n",
              "\n",
              "    .dataframe tbody tr th {\n",
              "        vertical-align: top;\n",
              "    }\n",
              "\n",
              "    .dataframe thead th {\n",
              "        text-align: right;\n",
              "    }\n",
              "</style>\n",
              "<table border=\"1\" class=\"dataframe\">\n",
              "  <thead>\n",
              "    <tr style=\"text-align: right;\">\n",
              "      <th></th>\n",
              "      <th>loss</th>\n",
              "      <th>mae</th>\n",
              "      <th>epochs</th>\n",
              "    </tr>\n",
              "  </thead>\n",
              "  <tbody>\n",
              "    <tr>\n",
              "      <th>0</th>\n",
              "      <td>4.745976</td>\n",
              "      <td>4.711779</td>\n",
              "      <td>99</td>\n",
              "    </tr>\n",
              "    <tr>\n",
              "      <th>1</th>\n",
              "      <td>9.620476</td>\n",
              "      <td>9.457829</td>\n",
              "      <td>33</td>\n",
              "    </tr>\n",
              "    <tr>\n",
              "      <th>2</th>\n",
              "      <td>6.903673</td>\n",
              "      <td>6.656145</td>\n",
              "      <td>99</td>\n",
              "    </tr>\n",
              "    <tr>\n",
              "      <th>3</th>\n",
              "      <td>4.013745</td>\n",
              "      <td>3.872339</td>\n",
              "      <td>76</td>\n",
              "    </tr>\n",
              "    <tr>\n",
              "      <th>4</th>\n",
              "      <td>4.290442</td>\n",
              "      <td>4.208205</td>\n",
              "      <td>77</td>\n",
              "    </tr>\n",
              "    <tr>\n",
              "      <th>5</th>\n",
              "      <td>4.045874</td>\n",
              "      <td>4.059147</td>\n",
              "      <td>72</td>\n",
              "    </tr>\n",
              "    <tr>\n",
              "      <th>6</th>\n",
              "      <td>3.985524</td>\n",
              "      <td>4.175376</td>\n",
              "      <td>55</td>\n",
              "    </tr>\n",
              "    <tr>\n",
              "      <th>7</th>\n",
              "      <td>5.990116</td>\n",
              "      <td>6.073483</td>\n",
              "      <td>99</td>\n",
              "    </tr>\n",
              "    <tr>\n",
              "      <th>8</th>\n",
              "      <td>5.485399</td>\n",
              "      <td>6.020909</td>\n",
              "      <td>78</td>\n",
              "    </tr>\n",
              "    <tr>\n",
              "      <th>9</th>\n",
              "      <td>14.241410</td>\n",
              "      <td>13.885615</td>\n",
              "      <td>36</td>\n",
              "    </tr>\n",
              "  </tbody>\n",
              "</table>\n",
              "</div>"
            ],
            "text/plain": [
              "        loss        mae  epochs\n",
              "0   4.745976   4.711779      99\n",
              "1   9.620476   9.457829      33\n",
              "2   6.903673   6.656145      99\n",
              "3   4.013745   3.872339      76\n",
              "4   4.290442   4.208205      77\n",
              "5   4.045874   4.059147      72\n",
              "6   3.985524   4.175376      55\n",
              "7   5.990116   6.073483      99\n",
              "8   5.485399   6.020909      78\n",
              "9  14.241410  13.885615      36"
            ]
          },
          "metadata": {
            "tags": []
          },
          "execution_count": 88
        }
      ]
    },
    {
      "cell_type": "code",
      "metadata": {
        "id": "N8vEYDm07QHZ",
        "colab": {
          "base_uri": "https://localhost:8080/",
          "height": 69
        },
        "outputId": "a5d9c6dd-c66c-4244-c2f7-fa7dcfaf3059"
      },
      "source": [
        "# now you can calculate average(MAE)\n",
        "print(round(np.mean(resultDF['mae']),2))\n",
        "# show the std dev\n",
        "print(round(np.std(resultDF['mae']),2))\n",
        "# as well as the number of epochs\n",
        "print(np.mean(resultDF['epochs']))"
      ],
      "execution_count": null,
      "outputs": [
        {
          "output_type": "stream",
          "text": [
            "6.31\n",
            "3.0\n",
            "72.4\n"
          ],
          "name": "stdout"
        }
      ]
    },
    {
      "cell_type": "markdown",
      "metadata": {
        "id": "Cc2oX_mNoXEW"
      },
      "source": [
        "# Model checkpointing\n"
      ]
    },
    {
      "cell_type": "markdown",
      "metadata": {
        "id": "qrtl6UNDjYo0"
      },
      "source": [
        "# Implement this model\n",
        "\n"
      ]
    },
    {
      "cell_type": "code",
      "metadata": {
        "id": "fp6Bm4hwjYHV",
        "colab": {
          "base_uri": "https://localhost:8080/",
          "height": 1000
        },
        "outputId": "8ef92e68-6abe-4502-cddc-b6abe2b2bd7b"
      },
      "source": [
        "# kfold with code\n",
        "# link: https://machinelearningmastery.com/evaluate-performance-deep-learning-models-keras/\n",
        "# note that the example in the link uses input_dim instead of input_shape\n",
        "\n",
        "from tensorflow.keras import layers, Sequential\n",
        "from sklearn.model_selection import KFold\n",
        "import numpy\n",
        "# fix random seed for reproducibility\n",
        "seed = 7\n",
        "numpy.random.seed(seed)\n",
        "# load dataset as numpy array\n",
        "dataset = df.values\n",
        "# split into input (X) and output (Y) variables\n",
        "X = dataset[:,0:13] # up to incluing column 13\n",
        "Y = dataset[:,13] # column 14 (but numbered 13, cause of Python)\n",
        "\n",
        "# create the model\n",
        "model = Sequential()\n",
        "model.add(layers.Dense(64, input_shape=(13,)))\n",
        "model.add(layers.Dense(8,activation='relu'))\n",
        "model.add(layers.Dense(1))\n",
        "# compile the model\n",
        "model.compile(optimizer='rmsprop', \n",
        "              loss='mae', # try mse or mae\n",
        "              metrics=['mae'])\n",
        "# fit the model\n",
        "history = model.fit(X, \n",
        "                    Y,\n",
        "                    epochs=1000,\n",
        "                    batch_size=10,\n",
        "                    validation_split=0.2,\n",
        "                    verbose=1,\n",
        "                    callbacks=[es])\n",
        "# evaluate the model\n",
        "scores = model.evaluate(X, Y, verbose=0)\n",
        "# number of epochs\n",
        "x = max(np.array(history.epoch))\n",
        "print(scores, x)\n"
      ],
      "execution_count": null,
      "outputs": [
        {
          "output_type": "stream",
          "text": [
            "Epoch 1/1000\n",
            "41/41 [==============================] - 0s 6ms/step - loss: 13.5622 - mae: 13.7041 - val_loss: 20.3785 - val_mae: 20.2159\n",
            "Epoch 2/1000\n",
            "41/41 [==============================] - 0s 4ms/step - loss: 11.5574 - mae: 11.3795 - val_loss: 10.2139 - val_mae: 9.9932\n",
            "Epoch 3/1000\n",
            "41/41 [==============================] - 0s 4ms/step - loss: 10.6642 - mae: 10.6199 - val_loss: 12.7553 - val_mae: 13.2596\n",
            "Epoch 4/1000\n",
            "41/41 [==============================] - 0s 5ms/step - loss: 10.2381 - mae: 10.1583 - val_loss: 8.8256 - val_mae: 8.6431\n",
            "Epoch 5/1000\n",
            "41/41 [==============================] - 0s 4ms/step - loss: 9.8781 - mae: 9.7934 - val_loss: 8.1602 - val_mae: 8.0315\n",
            "Epoch 6/1000\n",
            "41/41 [==============================] - 0s 5ms/step - loss: 9.8233 - mae: 9.8752 - val_loss: 5.5649 - val_mae: 5.5544\n",
            "Epoch 7/1000\n",
            "41/41 [==============================] - 0s 4ms/step - loss: 10.2392 - mae: 10.2277 - val_loss: 5.4704 - val_mae: 5.5417\n",
            "Epoch 8/1000\n",
            "41/41 [==============================] - 0s 4ms/step - loss: 10.2543 - mae: 10.2313 - val_loss: 5.9608 - val_mae: 5.8187\n",
            "Epoch 9/1000\n",
            "41/41 [==============================] - 0s 4ms/step - loss: 9.9630 - mae: 9.9951 - val_loss: 9.6430 - val_mae: 10.1650\n",
            "Epoch 10/1000\n",
            "41/41 [==============================] - 0s 5ms/step - loss: 9.1043 - mae: 9.1621 - val_loss: 10.2472 - val_mae: 10.5390\n",
            "Epoch 11/1000\n",
            "41/41 [==============================] - 0s 4ms/step - loss: 9.3809 - mae: 9.4216 - val_loss: 17.3541 - val_mae: 17.8862\n",
            "Epoch 12/1000\n",
            "41/41 [==============================] - 0s 4ms/step - loss: 9.2788 - mae: 9.0800 - val_loss: 9.2647 - val_mae: 9.1536\n",
            "Epoch 13/1000\n",
            "41/41 [==============================] - 0s 4ms/step - loss: 9.1194 - mae: 9.1187 - val_loss: 8.8761 - val_mae: 9.1922\n",
            "Epoch 14/1000\n",
            "41/41 [==============================] - 0s 4ms/step - loss: 9.8447 - mae: 9.8550 - val_loss: 11.3293 - val_mae: 11.6581\n",
            "Epoch 15/1000\n",
            "41/41 [==============================] - 0s 5ms/step - loss: 8.8888 - mae: 8.8462 - val_loss: 6.5973 - val_mae: 6.4493\n",
            "Epoch 16/1000\n",
            "41/41 [==============================] - 0s 4ms/step - loss: 8.4737 - mae: 8.5405 - val_loss: 7.3297 - val_mae: 7.2599\n",
            "Epoch 17/1000\n",
            "41/41 [==============================] - 0s 4ms/step - loss: 9.0775 - mae: 9.0579 - val_loss: 5.4177 - val_mae: 5.6262\n",
            "Epoch 18/1000\n",
            "41/41 [==============================] - 0s 4ms/step - loss: 9.0641 - mae: 9.0990 - val_loss: 5.9028 - val_mae: 6.2000\n",
            "Epoch 19/1000\n",
            "41/41 [==============================] - 0s 4ms/step - loss: 8.4998 - mae: 8.5544 - val_loss: 5.4880 - val_mae: 5.6429\n",
            "Epoch 20/1000\n",
            "41/41 [==============================] - 0s 5ms/step - loss: 9.3635 - mae: 9.4431 - val_loss: 12.4203 - val_mae: 12.1614\n",
            "Epoch 21/1000\n",
            "41/41 [==============================] - 0s 4ms/step - loss: 8.6329 - mae: 8.6499 - val_loss: 10.8665 - val_mae: 11.2218\n",
            "Epoch 22/1000\n",
            "41/41 [==============================] - 0s 5ms/step - loss: 8.5845 - mae: 8.6348 - val_loss: 7.8413 - val_mae: 8.3051\n",
            "Epoch 23/1000\n",
            "41/41 [==============================] - 0s 4ms/step - loss: 8.2898 - mae: 8.2403 - val_loss: 7.5185 - val_mae: 7.7414\n",
            "Epoch 24/1000\n",
            "41/41 [==============================] - 0s 4ms/step - loss: 8.4543 - mae: 8.3896 - val_loss: 6.8867 - val_mae: 7.3757\n",
            "Epoch 25/1000\n",
            "41/41 [==============================] - 0s 5ms/step - loss: 8.4430 - mae: 8.4892 - val_loss: 9.7821 - val_mae: 9.9774\n",
            "Epoch 26/1000\n",
            "41/41 [==============================] - 0s 5ms/step - loss: 7.5129 - mae: 7.5514 - val_loss: 7.6855 - val_mae: 7.8821\n",
            "Epoch 27/1000\n",
            "41/41 [==============================] - 0s 4ms/step - loss: 7.5819 - mae: 7.5172 - val_loss: 4.5123 - val_mae: 4.3762\n",
            "Epoch 28/1000\n",
            "41/41 [==============================] - 0s 4ms/step - loss: 7.7921 - mae: 7.8649 - val_loss: 4.3993 - val_mae: 4.2864\n",
            "Epoch 29/1000\n",
            "41/41 [==============================] - 0s 4ms/step - loss: 7.1563 - mae: 7.0818 - val_loss: 10.3082 - val_mae: 10.3920\n",
            "Epoch 30/1000\n",
            "41/41 [==============================] - 0s 4ms/step - loss: 7.9518 - mae: 7.9102 - val_loss: 5.6369 - val_mae: 5.4356\n",
            "Epoch 31/1000\n",
            "41/41 [==============================] - 0s 4ms/step - loss: 7.4720 - mae: 7.4028 - val_loss: 3.7546 - val_mae: 3.8199\n",
            "Epoch 32/1000\n",
            "41/41 [==============================] - 0s 4ms/step - loss: 7.4489 - mae: 7.4418 - val_loss: 3.8824 - val_mae: 3.8042\n",
            "Epoch 33/1000\n",
            "41/41 [==============================] - 0s 4ms/step - loss: 7.1011 - mae: 7.0792 - val_loss: 3.9337 - val_mae: 4.0450\n",
            "Epoch 34/1000\n",
            "41/41 [==============================] - 0s 4ms/step - loss: 7.3568 - mae: 7.2437 - val_loss: 4.7666 - val_mae: 4.6586\n",
            "Epoch 35/1000\n",
            "41/41 [==============================] - 0s 4ms/step - loss: 7.2001 - mae: 7.1750 - val_loss: 7.2227 - val_mae: 7.0655\n",
            "Epoch 36/1000\n",
            "41/41 [==============================] - 0s 4ms/step - loss: 6.5161 - mae: 6.5411 - val_loss: 9.0762 - val_mae: 9.4446\n",
            "Epoch 37/1000\n",
            "41/41 [==============================] - 0s 4ms/step - loss: 7.3484 - mae: 7.3383 - val_loss: 8.2932 - val_mae: 8.0656\n",
            "Epoch 38/1000\n",
            "41/41 [==============================] - 0s 4ms/step - loss: 6.7453 - mae: 6.7558 - val_loss: 11.9300 - val_mae: 11.6262\n",
            "Epoch 39/1000\n",
            "41/41 [==============================] - 0s 5ms/step - loss: 6.8846 - mae: 6.9430 - val_loss: 6.7659 - val_mae: 6.7106\n",
            "Epoch 40/1000\n",
            "41/41 [==============================] - 0s 4ms/step - loss: 6.5038 - mae: 6.5083 - val_loss: 9.7603 - val_mae: 9.7216\n",
            "Epoch 41/1000\n",
            "41/41 [==============================] - 0s 5ms/step - loss: 6.3648 - mae: 6.3453 - val_loss: 5.2978 - val_mae: 5.6373\n",
            "Epoch 42/1000\n",
            "41/41 [==============================] - 0s 4ms/step - loss: 6.2704 - mae: 6.1559 - val_loss: 8.1312 - val_mae: 8.5657\n",
            "Epoch 43/1000\n",
            "41/41 [==============================] - 0s 4ms/step - loss: 6.4383 - mae: 6.4487 - val_loss: 5.9974 - val_mae: 5.8289\n",
            "Epoch 44/1000\n",
            "41/41 [==============================] - 0s 4ms/step - loss: 6.1340 - mae: 6.1464 - val_loss: 5.7305 - val_mae: 5.5925\n",
            "Epoch 45/1000\n",
            "41/41 [==============================] - 0s 4ms/step - loss: 6.2131 - mae: 6.1668 - val_loss: 6.8657 - val_mae: 6.8019\n",
            "Epoch 46/1000\n",
            "41/41 [==============================] - 0s 4ms/step - loss: 6.3308 - mae: 6.3144 - val_loss: 5.2250 - val_mae: 5.0835\n",
            "Epoch 47/1000\n",
            "41/41 [==============================] - 0s 4ms/step - loss: 6.2537 - mae: 6.3023 - val_loss: 4.3591 - val_mae: 4.5257\n",
            "Epoch 48/1000\n",
            "41/41 [==============================] - 0s 5ms/step - loss: 6.4431 - mae: 6.4883 - val_loss: 5.0945 - val_mae: 4.8948\n",
            "Epoch 49/1000\n",
            "41/41 [==============================] - 0s 4ms/step - loss: 5.8992 - mae: 5.8849 - val_loss: 5.5079 - val_mae: 5.6000\n",
            "Epoch 50/1000\n",
            "41/41 [==============================] - 0s 4ms/step - loss: 5.7695 - mae: 5.7839 - val_loss: 6.7212 - val_mae: 7.0423\n",
            "Epoch 51/1000\n",
            "41/41 [==============================] - 0s 4ms/step - loss: 5.8929 - mae: 5.9246 - val_loss: 12.5942 - val_mae: 12.4699\n",
            "Epoch 52/1000\n",
            "41/41 [==============================] - 0s 4ms/step - loss: 6.4113 - mae: 6.3630 - val_loss: 5.1204 - val_mae: 4.9061\n",
            "Epoch 53/1000\n",
            "41/41 [==============================] - 0s 4ms/step - loss: 5.5491 - mae: 5.5458 - val_loss: 3.9502 - val_mae: 4.1649\n",
            "Epoch 54/1000\n",
            "41/41 [==============================] - 0s 4ms/step - loss: 5.7765 - mae: 5.7993 - val_loss: 8.2875 - val_mae: 8.6803\n",
            "Epoch 55/1000\n",
            "41/41 [==============================] - 0s 4ms/step - loss: 6.1408 - mae: 6.0222 - val_loss: 4.0379 - val_mae: 4.1450\n",
            "Epoch 56/1000\n",
            "41/41 [==============================] - 0s 4ms/step - loss: 5.7604 - mae: 5.7888 - val_loss: 11.2430 - val_mae: 11.0293\n",
            "Epoch 57/1000\n",
            "41/41 [==============================] - 0s 4ms/step - loss: 5.7277 - mae: 5.7783 - val_loss: 10.4495 - val_mae: 10.2781\n",
            "Epoch 58/1000\n",
            "41/41 [==============================] - 0s 4ms/step - loss: 5.7653 - mae: 5.7418 - val_loss: 5.7593 - val_mae: 5.9324\n",
            "Epoch 59/1000\n",
            "41/41 [==============================] - 0s 4ms/step - loss: 5.6798 - mae: 5.6952 - val_loss: 8.2465 - val_mae: 8.5770\n",
            "Epoch 60/1000\n",
            "41/41 [==============================] - 0s 4ms/step - loss: 5.7377 - mae: 5.7156 - val_loss: 7.7904 - val_mae: 8.1590\n",
            "Epoch 61/1000\n",
            "41/41 [==============================] - 0s 5ms/step - loss: 5.7063 - mae: 5.7035 - val_loss: 5.6462 - val_mae: 6.0099\n",
            "Epoch 62/1000\n",
            "41/41 [==============================] - 0s 4ms/step - loss: 5.6278 - mae: 5.5792 - val_loss: 4.6669 - val_mae: 4.4609\n",
            "Epoch 63/1000\n",
            "41/41 [==============================] - 0s 4ms/step - loss: 5.7842 - mae: 5.7059 - val_loss: 4.6993 - val_mae: 4.9590\n",
            "Epoch 00063: early stopping\n",
            "[5.170092582702637, 5.180192947387695] 62\n"
          ],
          "name": "stdout"
        }
      ]
    },
    {
      "cell_type": "markdown",
      "metadata": {
        "id": "s39P_PvNW7Ig"
      },
      "source": [
        "# Saving and Loading Model"
      ]
    },
    {
      "cell_type": "code",
      "metadata": {
        "id": "MGNl23uFjEk-"
      },
      "source": [
        "# save model and architecture to single file\n",
        "from tensorflow.keras.models import save_model\n",
        "save_model(model,filepath=\"/content/drive/My Drive/Spring 2020 Materials/Week 1/Module1/Script and Data/My First NN Results/Saved_DNN_Model.h5\")"
      ],
      "execution_count": null,
      "outputs": []
    },
    {
      "cell_type": "code",
      "metadata": {
        "id": "xIheCZFKWu0s",
        "colab": {
          "base_uri": "https://localhost:8080/",
          "height": 297
        },
        "outputId": "8425c417-b9d7-4752-9262-c140aa02d051"
      },
      "source": [
        "# load and evaluate a saved model\n",
        "from tensorflow.keras.models import load_model\n",
        "# load model\n",
        "model = load_model('/content/drive/My Drive/Spring 2020 Materials/Week 1/Module1/Script and Data/My First NN Results/Saved_DNN_Model.h5')\n",
        "# summarize model.\n",
        "model.summary()"
      ],
      "execution_count": null,
      "outputs": [
        {
          "output_type": "stream",
          "text": [
            "WARNING:tensorflow:Error in loading the saved optimizer state. As a result, your model is starting with a freshly initialized optimizer.\n",
            "Model: \"sequential_22\"\n",
            "_________________________________________________________________\n",
            "Layer (type)                 Output Shape              Param #   \n",
            "=================================================================\n",
            "dense_66 (Dense)             (None, 64)                896       \n",
            "_________________________________________________________________\n",
            "dense_67 (Dense)             (None, 8)                 520       \n",
            "_________________________________________________________________\n",
            "dense_68 (Dense)             (None, 1)                 9         \n",
            "=================================================================\n",
            "Total params: 1,425\n",
            "Trainable params: 1,425\n",
            "Non-trainable params: 0\n",
            "_________________________________________________________________\n"
          ],
          "name": "stdout"
        }
      ]
    }
  ]
}